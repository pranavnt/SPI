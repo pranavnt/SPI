{
 "cells": [
  {
   "cell_type": "markdown",
   "metadata": {},
   "source": [
    "# Social Progress Index vs. Style of Government"
   ]
  },
  {
   "cell_type": "markdown",
   "metadata": {},
   "source": [
    "\n",
    "## Data Loading/Preprocessing"
   ]
  },
  {
   "cell_type": "code",
   "execution_count": 1,
   "metadata": {},
   "outputs": [],
   "source": [
    "# imports\n",
    "import numpy as np\n",
    "import pandas as pd \n",
    "from matplotlib import pyplot as plt \n",
    "import seaborn as sns"
   ]
  },
  {
   "cell_type": "code",
   "execution_count": 2,
   "metadata": {},
   "outputs": [],
   "source": [
    "spiData = pd.read_csv('SPIData.csv')"
   ]
  },
  {
   "cell_type": "code",
   "execution_count": 3,
   "metadata": {},
   "outputs": [],
   "source": [
    "spiData = pd.DataFrame(pd.concat([spiData['Country'],spiData['SPI year'],spiData['Social Progress Index']],axis=1))"
   ]
  },
  {
   "cell_type": "code",
   "execution_count": 4,
   "metadata": {
    "tags": []
   },
   "outputs": [],
   "source": [
    "# Making sure row is for 2020\n",
    "for index, row in spiData.iterrows():\n",
    "    if row['SPI year']!=2020:\n",
    "        spiData.drop(index, inplace=True)"
   ]
  },
  {
   "cell_type": "code",
   "execution_count": 5,
   "metadata": {},
   "outputs": [],
   "source": [
    "spiData = pd.DataFrame(pd.concat([spiData['Country'],spiData['Social Progress Index']],axis=1))"
   ]
  },
  {
   "cell_type": "code",
   "execution_count": 6,
   "metadata": {},
   "outputs": [],
   "source": [
    "democracyData = pd.read_csv('DemocracyData.csv')"
   ]
  },
  {
   "cell_type": "code",
   "execution_count": 7,
   "metadata": {},
   "outputs": [],
   "source": [
    "democracyData = pd.DataFrame(pd.concat([democracyData['name'],democracyData['time'],democracyData['Democracy index (EIU)']],axis=1))"
   ]
  },
  {
   "cell_type": "code",
   "execution_count": 8,
   "metadata": {
    "tags": []
   },
   "outputs": [],
   "source": [
    "# Making sure row is for 2020\n",
    "for index, row in democracyData.iterrows():\n",
    "    if row['time']!=2019:\n",
    "        democracyData.drop(index, inplace=True)"
   ]
  },
  {
   "cell_type": "code",
   "execution_count": 9,
   "metadata": {},
   "outputs": [],
   "source": [
    "democracyData = democracyData.drop(columns=['time'])"
   ]
  },
  {
   "cell_type": "code",
   "execution_count": 10,
   "metadata": {},
   "outputs": [],
   "source": [
    "data = []\n",
    "countries = []"
   ]
  },
  {
   "cell_type": "code",
   "execution_count": 11,
   "metadata": {},
   "outputs": [],
   "source": [
    "for index, row in spiData.iterrows():\n",
    "    country = row['Country']\n",
    "    socialProgressIndex = row['Social Progress Index']\n",
    "\n",
    "    for i, r in democracyData.iterrows():\n",
    "        newCountry = r['name']\n",
    "        democracyIndex = r['Democracy index (EIU)']\n",
    "\n",
    "        if country==newCountry:\n",
    "            countries.append([country])\n",
    "            data.append([socialProgressIndex,democracyIndex])"
   ]
  },
  {
   "cell_type": "code",
   "execution_count": 12,
   "metadata": {},
   "outputs": [],
   "source": [
    "y = pd.DataFrame(data)[0]\n",
    "X = pd.DataFrame(data)[1]"
   ]
  },
  {
   "cell_type": "markdown",
   "metadata": {},
   "source": [
    "## Data Visualization"
   ]
  },
  {
   "cell_type": "code",
   "execution_count": 13,
   "metadata": {
    "scrolled": true
   },
   "outputs": [
    {
     "data": {
      "text/plain": [
       "Text(0, 0.5, 'Social Progress Index')"
      ]
     },
     "execution_count": 13,
     "metadata": {},
     "output_type": "execute_result"
    },
    {
     "data": {
      "image/png": "[encoded data removed]",
      "text/plain": [
       "<Figure size 432x288 with 1 Axes>"
      ]
     },
     "metadata": {
      "needs_background": "light"
     },
     "output_type": "display_data"
    }
   ],
   "source": [
    "plt.scatter(X,y)\n",
    "plt.title(\"Democracy Score vs. SPI\")\n",
    "plt.xlabel(\"Democracy Score\")\n",
    "plt.ylabel(\"Social Progress Index\")"
   ]
  },
  {
   "cell_type": "code",
   "execution_count": 14,
   "metadata": {},
   "outputs": [],
   "source": [
    "x = pd.DataFrame(data)"
   ]
  },
  {
   "cell_type": "markdown",
   "metadata": {},
   "source": [
    "## KMeans Clustering"
   ]
  },
  {
   "cell_type": "code",
   "execution_count": 15,
   "metadata": {},
   "outputs": [],
   "source": [
    "from sklearn.cluster import KMeans\n",
    "from sklearn import preprocessing"
   ]
  },
  {
   "cell_type": "code",
   "execution_count": 16,
   "metadata": {},
   "outputs": [],
   "source": [
    "x = preprocessing.scale(x)"
   ]
  },
  {
   "cell_type": "code",
   "execution_count": 23,
   "metadata": {},
   "outputs": [],
   "source": [
    "wcss = []\n",
    "\n",
    "for i in range(1,20):\n",
    "    kmeans = KMeans(i)\n",
    "    kmeans.fit(x)\n",
    "    wcss.append(kmeans.inertia_)"
   ]
  },
  {
   "cell_type": "code",
   "execution_count": 24,
   "metadata": {
    "scrolled": true
   },
   "outputs": [
    {
     "data": {
      "text/plain": [
       "Text(0.5, 0, '# of cluster')"
      ]
     },
     "execution_count": 24,
     "metadata": {},
     "output_type": "execute_result"
    },
    {
     "data": {
      "image/png": "[encoded data removed]",
      "text/plain": [
       "<Figure size 432x288 with 1 Axes>"
      ]
     },
     "metadata": {
      "needs_background": "light"
     },
     "output_type": "display_data"
    }
   ],
   "source": [
    "plt.plot(range(1,20),wcss)\n",
    "plt.ylabel('WCSS')\n",
    "plt.xlabel('# of cluster')"
   ]
  },
  {
   "cell_type": "code",
   "execution_count": 19,
   "metadata": {},
   "outputs": [],
   "source": [
    "kmeans = KMeans(5)\n",
    "\n",
    "identified_clusters = kmeans.fit_predict(x)\n",
    "identified_clusters\n",
    "\n",
    "data_w_cluster = pd.DataFrame(x.copy())\n",
    "data_w_cluster['Cluster'] = identified_clusters\n",
    "data_w_cluster = data_w_cluster.rename(columns={0: \"SPI\", 1: \"Democracy Index\"})\n",
    "\n",
    "data_w_cluster = pd.concat([data_w_cluster,pd.DataFrame(countries)],axis=1)"
   ]
  },
  {
   "cell_type": "code",
   "execution_count": 20,
   "metadata": {},
   "outputs": [
    {
     "data": {
      "text/plain": [
       "Text(0, 0.5, 'Social Progress Index (scaled)')"
      ]
     },
     "execution_count": 20,
     "metadata": {},
     "output_type": "execute_result"
    },
    {
     "data": {
      "image/png": "[encoded data removed]",
      "text/plain": [
       "<Figure size 432x288 with 1 Axes>"
      ]
     },
     "metadata": {
      "needs_background": "light"
     },
     "output_type": "display_data"
    }
   ],
   "source": [
    "plt.scatter(data_w_cluster['Democracy Index'],data_w_cluster['SPI'],c=data_w_cluster['Cluster'],cmap='rainbow')\n",
    "plt.title(\"Democracy Score vs. SPI (with clusters)\")\n",
    "plt.xlabel(\"Democracy Score (scaled)\")\n",
    "plt.ylabel(\"Social Progress Index (scaled)\")"
   ]
  },
  {
   "cell_type": "markdown",
   "metadata": {},
   "source": [
    "# 5 Groups/Clusters"
   ]
  },
  {
   "cell_type": "code",
   "execution_count": 21,
   "metadata": {},
   "outputs": [],
   "source": [
    "group1 = []\n",
    "group2 = []\n",
    "group3 = []\n",
    "group4 = []\n",
    "group5 = []"
   ]
  },
  {
   "cell_type": "code",
   "execution_count": 22,
   "metadata": {},
   "outputs": [],
   "source": [
    "for i,r in data_w_cluster.iterrows():\n",
    "    if r['Cluster']==0:\n",
    "        group1.append(r[0])\n",
    "    elif r['Cluster']==1:\n",
    "        group2.append(r[0])\n",
    "    elif r['Cluster']==2:\n",
    "        group3.append(r[0])\n",
    "    elif r['Cluster']==3:\n",
    "        group4.append(r[0])\n",
    "    elif r['Cluster']==4:\n",
    "        group5.append(r[0])"
   ]
  },
  {
   "cell_type": "markdown",
   "metadata": {},
   "source": [
    "## Group 1 - Orange (Top right)\n",
    "#### Countries list: Australia Austria Belgium Canada Costa Rica Cyprus Denmark Estonia Finland France Germany Greece Chile Iceland Ireland Israel Italy Japan Latvia Lithuania Luxembourg Malta Mauritius Netherlands New Zealand Norway Portugal Slovenia Spain Sweden Switzerland United Kingdom United States Uruguay\n",
    "\n",
    "## Takeaways\n",
    "1. These countries are the ones with the strongest democracies and highest SPIs \n",
    "2. The countries on the lower spectrum (i.e. the US) are economy centric societies\n",
    "3. The countries performing the best are social democratic countries (i.e. Norway) that focus more on people"
   ]
  },
  {
   "cell_type": "markdown",
   "metadata": {},
   "source": [
    "## Group 2 - Light Green (Top Left)\n",
    "#### Algeria Azerbaijan Bahrain Belarus Cuba Egypt Gabon China Iran Iraq Jordan Kazakhstan Kuwait Lebanon Nicaragua Oman Qatar Russia Saudi Arabia Turkey Turkmenistan United Arab Emirates Uzbekistan Vietnam\n",
    "\n",
    "### Takeaways\n",
    "1. These countries are placing very low in the democracy index but they have a relatively high social progress indexes.\n",
    "2. Most of these countries have bad human rights records, causing a lower SPI in some of them.\n",
    "3. Most of these countries have a solid economy and reasonable living conditions for most people, resulting in increases in their social progress index\n",
    "4. Gender equality is close to 0 in many of these countries, resulting in a lower SPI for a variety of reasons (gender equity in education lowers TFR)"
   ]
  },
  {
   "cell_type": "markdown",
   "metadata": {},
   "source": [
    "## Group 3 - Red\n",
    "#### Bangladesh Benin Guatemala Haiti Honduras India Kenya Lesotho Liberia Madagascar Malawi Mali Nepal Papua New Guinea Senegal Sierra Leone Tanzania Timor-Leste Uganda Zambia\n",
    "### Takeaways\n",
    "1. Most of these are in the middle of both the democracy index and SPI.\n",
    "2. Some have a lower SPI due to religious persecution and treatment of minorities.\n",
    "3. Others have gone through recent natural disasters "
   ]
  },
  {
   "cell_type": "markdown",
   "metadata": {},
   "source": [
    "## Group 4 - Blue (Bottom Left)\n",
    "#### Afghanistan Angola Burkina Faso Burundi Cambodia Cameroon Central African Republic Djibouti Equatorial Guinea Eritrea Ethiopia Guinea Guinea-Bissau Chad Mauritania Mozambique Myanmar Niger Nigeria Pakistan Rwanda Sudan Tajikistan Togo Zimbabwe\n",
    "### Takeaways:\n",
    "1. Most of these countries are low in both the democracy index and social progress index.\n",
    "2. Many of these countries are in sub saharan Africa\n",
    "3. Terrorism has also caused many countries to be in this cluster"
   ]
  },
  {
   "cell_type": "markdown",
   "metadata": {},
   "source": [
    "## Group 5 - Purple \n",
    "#### Albania Argentina Armenia Bhutan Bolivia Bosnia and Herzegovina Botswana Brazil Bulgaria Colombia Croatia Dominican Republic Ecuador El Salvador Fiji Georgia Ghana Guyana Hungary Indonesia Jamaica Malaysia Mexico Moldova Mongolia Montenegro Morocco Namibia Panama Paraguay Peru Philippines Poland Romania Serbia Singapore South Africa Sri Lanka Suriname Thailand Trinidad and Tobago Tunisia Ukraine\n",
    "\n",
    "### Takeaways\n",
    "1. These countries are close to the red, and are nearing the top right, which is where we want all countries to be\n",
    "2. Getting the world to a 75 SPI will require getting these countries to well past 75\n",
    "3. The main issues in most of these countries are an absence of opportunity and not accepting minorities"
   ]
  }
 ],
 "metadata": {
  "kernelspec": {
   "display_name": "Python 3",
   "language": "python",
   "name": "python3"
  },
  "language_info": {
   "codemirror_mode": {
    "name": "ipython",
    "version": 3
   },
   "file_extension": ".py",
   "mimetype": "text/x-python",
   "name": "python",
   "nbconvert_exporter": "python",
   "pygments_lexer": "ipython3",
   "version": "3.8.5"
  }
 },
 "nbformat": 4,
 "nbformat_minor": 2
}
