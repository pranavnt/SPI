{
 "metadata": {
  "language_info": {
   "codemirror_mode": {
    "name": "ipython",
    "version": 3
   },
   "file_extension": ".py",
   "mimetype": "text/x-python",
   "name": "python",
   "nbconvert_exporter": "python",
   "pygments_lexer": "ipython3",
   "version": "3.8.5-final"
  },
  "orig_nbformat": 2,
  "kernelspec": {
   "name": "python3",
   "display_name": "Python 3",
   "language": "python"
  }
 },
 "nbformat": 4,
 "nbformat_minor": 2,
 "cells": [
  {
   "cell_type": "code",
   "execution_count": 2,
   "metadata": {},
   "outputs": [],
   "source": [
    "# imports\n",
    "import numpy as np\n",
    "import pandas as pd \n",
    "from matplotlib import pyplot as plt \n",
    "import seaborn as sns"
   ]
  },
  {
   "cell_type": "code",
   "execution_count": 3,
   "metadata": {},
   "outputs": [],
   "source": [
    "spiData = pd.read_csv('SPIData.csv')"
   ]
  },
  {
   "cell_type": "code",
   "execution_count": 4,
   "metadata": {},
   "outputs": [],
   "source": [
    "spiData = pd.DataFrame(pd.concat([spiData['Country'],spiData['SPI year'],spiData['Social Progress Index']],axis=1))"
   ]
  },
  {
   "cell_type": "code",
   "execution_count": 5,
   "metadata": {},
   "outputs": [],
   "source": [
    "# Making sure row is for 2020\n",
    "for index, row in spiData.iterrows():\n",
    "    if row['SPI year']!=2020:\n",
    "        spiData.drop(index, inplace=True)"
   ]
  },
  {
   "cell_type": "code",
   "execution_count": 6,
   "metadata": {},
   "outputs": [],
   "source": [
    "spiData = pd.DataFrame(pd.concat([spiData['Country'],spiData['Social Progress Index']],axis=1))"
   ]
  },
  {
   "cell_type": "code",
   "execution_count": 7,
   "metadata": {},
   "outputs": [
    {
     "output_type": "execute_result",
     "data": {
      "text/plain": [
       "          Country  Social Progress Index\n",
       "0           World                  64.24\n",
       "10    Afghanistan                  42.29\n",
       "20        Albania                  75.41\n",
       "30        Algeria                  69.92\n",
       "40         Angola                  48.16\n",
       "...           ...                    ...\n",
       "1590      Uruguay                  82.99\n",
       "1600   Uzbekistan                  64.98\n",
       "1610      Vietnam                  68.85\n",
       "1620       Zambia                  55.34\n",
       "1630     Zimbabwe                  52.26\n",
       "\n",
       "[164 rows x 2 columns]"
      ],
      "text/html": "<div>\n<style scoped>\n    .dataframe tbody tr th:only-of-type {\n        vertical-align: middle;\n    }\n\n    .dataframe tbody tr th {\n        vertical-align: top;\n    }\n\n    .dataframe thead th {\n        text-align: right;\n    }\n</style>\n<table border=\"1\" class=\"dataframe\">\n  <thead>\n    <tr style=\"text-align: right;\">\n      <th></th>\n      <th>Country</th>\n      <th>Social Progress Index</th>\n    </tr>\n  </thead>\n  <tbody>\n    <tr>\n      <th>0</th>\n      <td>World</td>\n      <td>64.24</td>\n    </tr>\n    <tr>\n      <th>10</th>\n      <td>Afghanistan</td>\n      <td>42.29</td>\n    </tr>\n    <tr>\n      <th>20</th>\n      <td>Albania</td>\n      <td>75.41</td>\n    </tr>\n    <tr>\n      <th>30</th>\n      <td>Algeria</td>\n      <td>69.92</td>\n    </tr>\n    <tr>\n      <th>40</th>\n      <td>Angola</td>\n      <td>48.16</td>\n    </tr>\n    <tr>\n      <th>...</th>\n      <td>...</td>\n      <td>...</td>\n    </tr>\n    <tr>\n      <th>1590</th>\n      <td>Uruguay</td>\n      <td>82.99</td>\n    </tr>\n    <tr>\n      <th>1600</th>\n      <td>Uzbekistan</td>\n      <td>64.98</td>\n    </tr>\n    <tr>\n      <th>1610</th>\n      <td>Vietnam</td>\n      <td>68.85</td>\n    </tr>\n    <tr>\n      <th>1620</th>\n      <td>Zambia</td>\n      <td>55.34</td>\n    </tr>\n    <tr>\n      <th>1630</th>\n      <td>Zimbabwe</td>\n      <td>52.26</td>\n    </tr>\n  </tbody>\n</table>\n<p>164 rows × 2 columns</p>\n</div>"
     },
     "metadata": {},
     "execution_count": 7
    }
   ],
   "source": [
    "spiData"
   ]
  },
  {
   "cell_type": "code",
   "execution_count": 8,
   "metadata": {},
   "outputs": [
    {
     "output_type": "execute_result",
     "data": {
      "text/plain": [
       "               0     1\n",
       "0    Afghanistan  3.80\n",
       "1        Albania  3.53\n",
       "2        Algeria  3.69\n",
       "3        Andorra  3.92\n",
       "4         Angola  1.66\n",
       "..           ...   ...\n",
       "145    Venezuela  2.03\n",
       "146      Vietnam  0.94\n",
       "147        Yemen  3.97\n",
       "148       Zambia  0.81\n",
       "149     Zimbabwe  1.79\n",
       "\n",
       "[150 rows x 2 columns]"
      ],
      "text/html": "<div>\n<style scoped>\n    .dataframe tbody tr th:only-of-type {\n        vertical-align: middle;\n    }\n\n    .dataframe tbody tr th {\n        vertical-align: top;\n    }\n\n    .dataframe thead th {\n        text-align: right;\n    }\n</style>\n<table border=\"1\" class=\"dataframe\">\n  <thead>\n    <tr style=\"text-align: right;\">\n      <th></th>\n      <th>0</th>\n      <th>1</th>\n    </tr>\n  </thead>\n  <tbody>\n    <tr>\n      <th>0</th>\n      <td>Afghanistan</td>\n      <td>3.80</td>\n    </tr>\n    <tr>\n      <th>1</th>\n      <td>Albania</td>\n      <td>3.53</td>\n    </tr>\n    <tr>\n      <th>2</th>\n      <td>Algeria</td>\n      <td>3.69</td>\n    </tr>\n    <tr>\n      <th>3</th>\n      <td>Andorra</td>\n      <td>3.92</td>\n    </tr>\n    <tr>\n      <th>4</th>\n      <td>Angola</td>\n      <td>1.66</td>\n    </tr>\n    <tr>\n      <th>...</th>\n      <td>...</td>\n      <td>...</td>\n    </tr>\n    <tr>\n      <th>145</th>\n      <td>Venezuela</td>\n      <td>2.03</td>\n    </tr>\n    <tr>\n      <th>146</th>\n      <td>Vietnam</td>\n      <td>0.94</td>\n    </tr>\n    <tr>\n      <th>147</th>\n      <td>Yemen</td>\n      <td>3.97</td>\n    </tr>\n    <tr>\n      <th>148</th>\n      <td>Zambia</td>\n      <td>0.81</td>\n    </tr>\n    <tr>\n      <th>149</th>\n      <td>Zimbabwe</td>\n      <td>1.79</td>\n    </tr>\n  </tbody>\n</table>\n<p>150 rows × 2 columns</p>\n</div>"
     },
     "metadata": {},
     "execution_count": 8
    }
   ],
   "source": [
    "waterData = pd.read_csv(\"WaterScarcity.csv\",header=None)\n",
    "waterData = waterData.drop(columns=[2,3])\n",
    "waterData"
   ]
  },
  {
   "cell_type": "code",
   "execution_count": 9,
   "metadata": {},
   "outputs": [],
   "source": [
    "data = []\n",
    "countries = []"
   ]
  },
  {
   "cell_type": "code",
   "execution_count": 10,
   "metadata": {},
   "outputs": [],
   "source": [
    "for index, row in spiData.iterrows():\n",
    "    country = row['Country']\n",
    "    socialProgressIndex = row['Social Progress Index']\n",
    "\n",
    "    for i, r in waterData.iterrows():\n",
    "        newCountry = r[0]\n",
    "        waterIndex = r[1]\n",
    "\n",
    "        if country==newCountry:\n",
    "            countries.append([country])\n",
    "            data.append([socialProgressIndex,waterIndex])"
   ]
  },
  {
   "cell_type": "code",
   "execution_count": 11,
   "metadata": {},
   "outputs": [],
   "source": [
    "y = pd.DataFrame(data)[0]\n",
    "X = pd.DataFrame(data)[1]"
   ]
  },
  {
   "cell_type": "code",
   "execution_count": null,
   "metadata": {},
   "outputs": [],
   "source": [
    "plt.scatter(X,y)\n",
    "plt.title(\"Water Scarcity Index vs. SPI\")\n",
    "plt.xlabel(\"Water Scarcity Index\")\n",
    "plt.ylabel(\"Social Progress Index\")"
   ]
  }
 ]
}