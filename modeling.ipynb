{
 "metadata": {
  "language_info": {
   "codemirror_mode": {
    "name": "ipython",
    "version": 3
   },
   "file_extension": ".py",
   "mimetype": "text/x-python",
   "name": "python",
   "nbconvert_exporter": "python",
   "pygments_lexer": "ipython3",
   "version": "3.8.5-final"
  },
  "orig_nbformat": 2,
  "kernelspec": {
   "name": "python3",
   "display_name": "Python 3",
   "language": "python"
  }
 },
 "nbformat": 4,
 "nbformat_minor": 2,
 "cells": [
  {
   "cell_type": "code",
   "execution_count": 1,
   "metadata": {},
   "outputs": [],
   "source": [
    "# imports\n",
    "import numpy as np\n",
    "import pandas as pd \n",
    "from matplotlib import pyplot as plt \n",
    "import seaborn as sns"
   ]
  },
  {
   "cell_type": "code",
   "execution_count": 2,
   "metadata": {},
   "outputs": [
    {
     "output_type": "execute_result",
     "data": {
      "text/plain": [
       "   SPI Rank Country SPI country code  SPI year Status  Social Progress Index  \\\n",
       "0       NaN   World              WWW      2020    NaN                  64.24   \n",
       "1       NaN   World              WWW      2019    NaN                  64.32   \n",
       "2       NaN   World              WWW      2018    NaN                  64.05   \n",
       "3       NaN   World              WWW      2017    NaN                  63.78   \n",
       "4       NaN   World              WWW      2016    NaN                  63.23   \n",
       "\n",
       "   Basic Human Needs  Foundations of Wellbeing  Opportunity  \\\n",
       "0              74.65                     60.82        57.25   \n",
       "1              74.31                     60.75        57.90   \n",
       "2              74.06                     60.54        57.54   \n",
       "3              73.62                     60.17        57.56   \n",
       "4              73.24                     59.07        57.39   \n",
       "\n",
       "   Nutrition and Basic Medical Care  ...  \\\n",
       "0                             84.63  ...   \n",
       "1                             84.36  ...   \n",
       "2                             84.04  ...   \n",
       "3                             83.66  ...   \n",
       "4                             83.24  ...   \n",
       "\n",
       "   Satisfied demand for contraception (% of women)  \\\n",
       "0                                          73.8590   \n",
       "1                                          73.6103   \n",
       "2                                          73.3432   \n",
       "3                                          73.1914   \n",
       "4                                          73.0024   \n",
       "\n",
       "   Equality of political power by socioeconomic position (0=unequal power; 4=equal power)  \\\n",
       "0                                             1.6918                                        \n",
       "1                                             1.8016                                        \n",
       "2                                             1.8182                                        \n",
       "3                                             1.8684                                        \n",
       "4                                             1.8897                                        \n",
       "\n",
       "    Equality of political power by social group (0=unequal power; 4=equal power)  \\\n",
       "0                                             1.6908                               \n",
       "1                                             1.8458                               \n",
       "2                                             1.8529                               \n",
       "3                                             1.8280                               \n",
       "4                                             1.8477                               \n",
       "\n",
       "   Equality of political power by gender (0=unequal power; 4=equal power)  \\\n",
       "0                                             1.7663                        \n",
       "1                                             1.9055                        \n",
       "2                                             1.8884                        \n",
       "3                                             1.9282                        \n",
       "4                                             1.9353                        \n",
       "\n",
       "   Discrimination and violence against minorities (0=low; 10=high)  \\\n",
       "0                                             7.3247                 \n",
       "1                                             7.2709                 \n",
       "2                                             7.4107                 \n",
       "3                                             7.5079                 \n",
       "4                                             7.5401                 \n",
       "\n",
       "   Acceptance of gays and lesbians (0=low; 100=high)  \\\n",
       "0                                             0.3343   \n",
       "1                                             0.3149   \n",
       "2                                             0.2772   \n",
       "3                                             0.2634   \n",
       "4                                             0.2556   \n",
       "\n",
       "   Quality weighted universities (points)  Citable documents  \\\n",
       "0                                223.0656             0.5025   \n",
       "1                                214.7963             0.4749   \n",
       "2                                195.1538             0.4527   \n",
       "3                                173.0154             0.4425   \n",
       "4                                158.3055             0.4252   \n",
       "\n",
       "   Women with advanced education (%)  Years of tertiary schooling  \n",
       "0                             0.5444                       2.0406  \n",
       "1                             0.5308                       2.0206  \n",
       "2                             0.5159                       1.9994  \n",
       "3                             0.4995                       1.9618  \n",
       "4                             0.4824                       1.8963  \n",
       "\n",
       "[5 rows x 71 columns]"
      ],
      "text/html": "<div>\n<style scoped>\n    .dataframe tbody tr th:only-of-type {\n        vertical-align: middle;\n    }\n\n    .dataframe tbody tr th {\n        vertical-align: top;\n    }\n\n    .dataframe thead th {\n        text-align: right;\n    }\n</style>\n<table border=\"1\" class=\"dataframe\">\n  <thead>\n    <tr style=\"text-align: right;\">\n      <th></th>\n      <th>SPI Rank</th>\n      <th>Country</th>\n      <th>SPI country code</th>\n      <th>SPI year</th>\n      <th>Status</th>\n      <th>Social Progress Index</th>\n      <th>Basic Human Needs</th>\n      <th>Foundations of Wellbeing</th>\n      <th>Opportunity</th>\n      <th>Nutrition and Basic Medical Care</th>\n      <th>...</th>\n      <th>Satisfied demand for contraception (% of women)</th>\n      <th>Equality of political power by socioeconomic position (0=unequal power; 4=equal power)</th>\n      <th>Equality of political power by social group (0=unequal power; 4=equal power)</th>\n      <th>Equality of political power by gender (0=unequal power; 4=equal power)</th>\n      <th>Discrimination and violence against minorities (0=low; 10=high)</th>\n      <th>Acceptance of gays and lesbians (0=low; 100=high)</th>\n      <th>Quality weighted universities (points)</th>\n      <th>Citable documents</th>\n      <th>Women with advanced education (%)</th>\n      <th>Years of tertiary schooling</th>\n    </tr>\n  </thead>\n  <tbody>\n    <tr>\n      <th>0</th>\n      <td>NaN</td>\n      <td>World</td>\n      <td>WWW</td>\n      <td>2020</td>\n      <td>NaN</td>\n      <td>64.24</td>\n      <td>74.65</td>\n      <td>60.82</td>\n      <td>57.25</td>\n      <td>84.63</td>\n      <td>...</td>\n      <td>73.8590</td>\n      <td>1.6918</td>\n      <td>1.6908</td>\n      <td>1.7663</td>\n      <td>7.3247</td>\n      <td>0.3343</td>\n      <td>223.0656</td>\n      <td>0.5025</td>\n      <td>0.5444</td>\n      <td>2.0406</td>\n    </tr>\n    <tr>\n      <th>1</th>\n      <td>NaN</td>\n      <td>World</td>\n      <td>WWW</td>\n      <td>2019</td>\n      <td>NaN</td>\n      <td>64.32</td>\n      <td>74.31</td>\n      <td>60.75</td>\n      <td>57.90</td>\n      <td>84.36</td>\n      <td>...</td>\n      <td>73.6103</td>\n      <td>1.8016</td>\n      <td>1.8458</td>\n      <td>1.9055</td>\n      <td>7.2709</td>\n      <td>0.3149</td>\n      <td>214.7963</td>\n      <td>0.4749</td>\n      <td>0.5308</td>\n      <td>2.0206</td>\n    </tr>\n    <tr>\n      <th>2</th>\n      <td>NaN</td>\n      <td>World</td>\n      <td>WWW</td>\n      <td>2018</td>\n      <td>NaN</td>\n      <td>64.05</td>\n      <td>74.06</td>\n      <td>60.54</td>\n      <td>57.54</td>\n      <td>84.04</td>\n      <td>...</td>\n      <td>73.3432</td>\n      <td>1.8182</td>\n      <td>1.8529</td>\n      <td>1.8884</td>\n      <td>7.4107</td>\n      <td>0.2772</td>\n      <td>195.1538</td>\n      <td>0.4527</td>\n      <td>0.5159</td>\n      <td>1.9994</td>\n    </tr>\n    <tr>\n      <th>3</th>\n      <td>NaN</td>\n      <td>World</td>\n      <td>WWW</td>\n      <td>2017</td>\n      <td>NaN</td>\n      <td>63.78</td>\n      <td>73.62</td>\n      <td>60.17</td>\n      <td>57.56</td>\n      <td>83.66</td>\n      <td>...</td>\n      <td>73.1914</td>\n      <td>1.8684</td>\n      <td>1.8280</td>\n      <td>1.9282</td>\n      <td>7.5079</td>\n      <td>0.2634</td>\n      <td>173.0154</td>\n      <td>0.4425</td>\n      <td>0.4995</td>\n      <td>1.9618</td>\n    </tr>\n    <tr>\n      <th>4</th>\n      <td>NaN</td>\n      <td>World</td>\n      <td>WWW</td>\n      <td>2016</td>\n      <td>NaN</td>\n      <td>63.23</td>\n      <td>73.24</td>\n      <td>59.07</td>\n      <td>57.39</td>\n      <td>83.24</td>\n      <td>...</td>\n      <td>73.0024</td>\n      <td>1.8897</td>\n      <td>1.8477</td>\n      <td>1.9353</td>\n      <td>7.5401</td>\n      <td>0.2556</td>\n      <td>158.3055</td>\n      <td>0.4252</td>\n      <td>0.4824</td>\n      <td>1.8963</td>\n    </tr>\n  </tbody>\n</table>\n<p>5 rows × 71 columns</p>\n</div>"
     },
     "metadata": {},
     "execution_count": 2
    }
   ],
   "source": [
    "spiData = pd.read_csv('SPIData.csv')\n",
    "spiData.head(5)"
   ]
  },
  {
   "cell_type": "code",
   "execution_count": 3,
   "metadata": {},
   "outputs": [],
   "source": [
    "spiData = pd.DataFrame(pd.concat([spiData['Country'],spiData['SPI year'],spiData['Social Progress Index']],axis=1))"
   ]
  },
  {
   "cell_type": "code",
   "execution_count": 4,
   "metadata": {
    "tags": []
   },
   "outputs": [],
   "source": [
    "# Making sure row is for 2020\n",
    "for index, row in spiData.iterrows():\n",
    "    if row['SPI year']!=2020:\n",
    "        spiData.drop(index, inplace=True)"
   ]
  },
  {
   "cell_type": "code",
   "execution_count": 5,
   "metadata": {},
   "outputs": [
    {
     "output_type": "execute_result",
     "data": {
      "text/plain": [
       "          Country  Social Progress Index\n",
       "0           World                  64.24\n",
       "10    Afghanistan                  42.29\n",
       "20        Albania                  75.41\n",
       "30        Algeria                  69.92\n",
       "40         Angola                  48.16\n",
       "...           ...                    ...\n",
       "1590      Uruguay                  82.99\n",
       "1600   Uzbekistan                  64.98\n",
       "1610      Vietnam                  68.85\n",
       "1620       Zambia                  55.34\n",
       "1630     Zimbabwe                  52.26\n",
       "\n",
       "[164 rows x 2 columns]"
      ],
      "text/html": "<div>\n<style scoped>\n    .dataframe tbody tr th:only-of-type {\n        vertical-align: middle;\n    }\n\n    .dataframe tbody tr th {\n        vertical-align: top;\n    }\n\n    .dataframe thead th {\n        text-align: right;\n    }\n</style>\n<table border=\"1\" class=\"dataframe\">\n  <thead>\n    <tr style=\"text-align: right;\">\n      <th></th>\n      <th>Country</th>\n      <th>Social Progress Index</th>\n    </tr>\n  </thead>\n  <tbody>\n    <tr>\n      <th>0</th>\n      <td>World</td>\n      <td>64.24</td>\n    </tr>\n    <tr>\n      <th>10</th>\n      <td>Afghanistan</td>\n      <td>42.29</td>\n    </tr>\n    <tr>\n      <th>20</th>\n      <td>Albania</td>\n      <td>75.41</td>\n    </tr>\n    <tr>\n      <th>30</th>\n      <td>Algeria</td>\n      <td>69.92</td>\n    </tr>\n    <tr>\n      <th>40</th>\n      <td>Angola</td>\n      <td>48.16</td>\n    </tr>\n    <tr>\n      <th>...</th>\n      <td>...</td>\n      <td>...</td>\n    </tr>\n    <tr>\n      <th>1590</th>\n      <td>Uruguay</td>\n      <td>82.99</td>\n    </tr>\n    <tr>\n      <th>1600</th>\n      <td>Uzbekistan</td>\n      <td>64.98</td>\n    </tr>\n    <tr>\n      <th>1610</th>\n      <td>Vietnam</td>\n      <td>68.85</td>\n    </tr>\n    <tr>\n      <th>1620</th>\n      <td>Zambia</td>\n      <td>55.34</td>\n    </tr>\n    <tr>\n      <th>1630</th>\n      <td>Zimbabwe</td>\n      <td>52.26</td>\n    </tr>\n  </tbody>\n</table>\n<p>164 rows × 2 columns</p>\n</div>"
     },
     "metadata": {},
     "execution_count": 5
    }
   ],
   "source": [
    "spiData = pd.DataFrame(pd.concat([spiData['Country'],spiData['Social Progress Index']],axis=1))\n",
    "spiData"
   ]
  },
  {
   "cell_type": "code",
   "execution_count": 6,
   "metadata": {},
   "outputs": [
    {
     "output_type": "execute_result",
     "data": {
      "text/plain": [
       "   geo         name  time  Democracy index (EIU)  \\\n",
       "0  afg  Afghanistan  2006                   30.6   \n",
       "1  afg  Afghanistan  2007                   30.4   \n",
       "2  afg  Afghanistan  2008                   30.2   \n",
       "3  afg  Afghanistan  2009                   27.5   \n",
       "4  afg  Afghanistan  2010                   24.8   \n",
       "\n",
       "   Electoral pluralism index (EIU)  Government index (EIU)  \\\n",
       "0                            61.70                    0.00   \n",
       "1                            56.70                    3.95   \n",
       "2                            51.70                    7.90   \n",
       "3                            38.35                    7.90   \n",
       "4                            25.00                    7.90   \n",
       "\n",
       "   Political participation index(EIU)  Political culture index (EIU)  \\\n",
       "0                                22.2                           25.0   \n",
       "1                                22.2                           25.0   \n",
       "2                                22.2                           25.0   \n",
       "3                                25.0                           25.0   \n",
       "4                                27.8                           25.0   \n",
       "\n",
       "   Civil liberties index (EIU)  Change in democracy index (EIU)  \n",
       "0                        44.10                              NaN  \n",
       "1                        44.10                             -0.2  \n",
       "2                        44.10                             -0.2  \n",
       "3                        41.15                             -2.7  \n",
       "4                        38.20                             -2.7  "
      ],
      "text/html": "<div>\n<style scoped>\n    .dataframe tbody tr th:only-of-type {\n        vertical-align: middle;\n    }\n\n    .dataframe tbody tr th {\n        vertical-align: top;\n    }\n\n    .dataframe thead th {\n        text-align: right;\n    }\n</style>\n<table border=\"1\" class=\"dataframe\">\n  <thead>\n    <tr style=\"text-align: right;\">\n      <th></th>\n      <th>geo</th>\n      <th>name</th>\n      <th>time</th>\n      <th>Democracy index (EIU)</th>\n      <th>Electoral pluralism index (EIU)</th>\n      <th>Government index (EIU)</th>\n      <th>Political participation index(EIU)</th>\n      <th>Political culture index (EIU)</th>\n      <th>Civil liberties index (EIU)</th>\n      <th>Change in democracy index (EIU)</th>\n    </tr>\n  </thead>\n  <tbody>\n    <tr>\n      <th>0</th>\n      <td>afg</td>\n      <td>Afghanistan</td>\n      <td>2006</td>\n      <td>30.6</td>\n      <td>61.70</td>\n      <td>0.00</td>\n      <td>22.2</td>\n      <td>25.0</td>\n      <td>44.10</td>\n      <td>NaN</td>\n    </tr>\n    <tr>\n      <th>1</th>\n      <td>afg</td>\n      <td>Afghanistan</td>\n      <td>2007</td>\n      <td>30.4</td>\n      <td>56.70</td>\n      <td>3.95</td>\n      <td>22.2</td>\n      <td>25.0</td>\n      <td>44.10</td>\n      <td>-0.2</td>\n    </tr>\n    <tr>\n      <th>2</th>\n      <td>afg</td>\n      <td>Afghanistan</td>\n      <td>2008</td>\n      <td>30.2</td>\n      <td>51.70</td>\n      <td>7.90</td>\n      <td>22.2</td>\n      <td>25.0</td>\n      <td>44.10</td>\n      <td>-0.2</td>\n    </tr>\n    <tr>\n      <th>3</th>\n      <td>afg</td>\n      <td>Afghanistan</td>\n      <td>2009</td>\n      <td>27.5</td>\n      <td>38.35</td>\n      <td>7.90</td>\n      <td>25.0</td>\n      <td>25.0</td>\n      <td>41.15</td>\n      <td>-2.7</td>\n    </tr>\n    <tr>\n      <th>4</th>\n      <td>afg</td>\n      <td>Afghanistan</td>\n      <td>2010</td>\n      <td>24.8</td>\n      <td>25.00</td>\n      <td>7.90</td>\n      <td>27.8</td>\n      <td>25.0</td>\n      <td>38.20</td>\n      <td>-2.7</td>\n    </tr>\n  </tbody>\n</table>\n</div>"
     },
     "metadata": {},
     "execution_count": 6
    }
   ],
   "source": [
    "democracyData = pd.read_csv('DemocracyData.csv')\n",
    "democracyData.head(5)"
   ]
  },
  {
   "cell_type": "code",
   "execution_count": 7,
   "metadata": {},
   "outputs": [
    {
     "output_type": "execute_result",
     "data": {
      "text/plain": [
       "             name  time  Democracy index (EIU)\n",
       "0     Afghanistan  2006                   30.6\n",
       "1     Afghanistan  2007                   30.4\n",
       "2     Afghanistan  2008                   30.2\n",
       "3     Afghanistan  2009                   27.5\n",
       "4     Afghanistan  2010                   24.8\n",
       "...           ...   ...                    ...\n",
       "2333     Zimbabwe  2015                   30.5\n",
       "2334     Zimbabwe  2016                   30.5\n",
       "2335     Zimbabwe  2017                   31.6\n",
       "2336     Zimbabwe  2018                   31.6\n",
       "2337     Zimbabwe  2019                   31.6\n",
       "\n",
       "[2338 rows x 3 columns]"
      ],
      "text/html": "<div>\n<style scoped>\n    .dataframe tbody tr th:only-of-type {\n        vertical-align: middle;\n    }\n\n    .dataframe tbody tr th {\n        vertical-align: top;\n    }\n\n    .dataframe thead th {\n        text-align: right;\n    }\n</style>\n<table border=\"1\" class=\"dataframe\">\n  <thead>\n    <tr style=\"text-align: right;\">\n      <th></th>\n      <th>name</th>\n      <th>time</th>\n      <th>Democracy index (EIU)</th>\n    </tr>\n  </thead>\n  <tbody>\n    <tr>\n      <th>0</th>\n      <td>Afghanistan</td>\n      <td>2006</td>\n      <td>30.6</td>\n    </tr>\n    <tr>\n      <th>1</th>\n      <td>Afghanistan</td>\n      <td>2007</td>\n      <td>30.4</td>\n    </tr>\n    <tr>\n      <th>2</th>\n      <td>Afghanistan</td>\n      <td>2008</td>\n      <td>30.2</td>\n    </tr>\n    <tr>\n      <th>3</th>\n      <td>Afghanistan</td>\n      <td>2009</td>\n      <td>27.5</td>\n    </tr>\n    <tr>\n      <th>4</th>\n      <td>Afghanistan</td>\n      <td>2010</td>\n      <td>24.8</td>\n    </tr>\n    <tr>\n      <th>...</th>\n      <td>...</td>\n      <td>...</td>\n      <td>...</td>\n    </tr>\n    <tr>\n      <th>2333</th>\n      <td>Zimbabwe</td>\n      <td>2015</td>\n      <td>30.5</td>\n    </tr>\n    <tr>\n      <th>2334</th>\n      <td>Zimbabwe</td>\n      <td>2016</td>\n      <td>30.5</td>\n    </tr>\n    <tr>\n      <th>2335</th>\n      <td>Zimbabwe</td>\n      <td>2017</td>\n      <td>31.6</td>\n    </tr>\n    <tr>\n      <th>2336</th>\n      <td>Zimbabwe</td>\n      <td>2018</td>\n      <td>31.6</td>\n    </tr>\n    <tr>\n      <th>2337</th>\n      <td>Zimbabwe</td>\n      <td>2019</td>\n      <td>31.6</td>\n    </tr>\n  </tbody>\n</table>\n<p>2338 rows × 3 columns</p>\n</div>"
     },
     "metadata": {},
     "execution_count": 7
    }
   ],
   "source": [
    "democracyData = pd.DataFrame(pd.concat([democracyData['name'],democracyData['time'],democracyData['Democracy index (EIU)']],axis=1))\n",
    "democracyData"
   ]
  },
  {
   "cell_type": "code",
   "execution_count": 8,
   "metadata": {
    "tags": []
   },
   "outputs": [],
   "source": [
    "# Making sure row is for 2020\n",
    "for index, row in democracyData.iterrows():\n",
    "    if row['time']!=2019:\n",
    "        democracyData.drop(index, inplace=True)"
   ]
  },
  {
   "cell_type": "code",
   "execution_count": 9,
   "metadata": {},
   "outputs": [],
   "source": [
    "democracyData = democracyData.drop(columns=['time'])"
   ]
  },
  {
   "cell_type": "code",
   "execution_count": 10,
   "metadata": {},
   "outputs": [],
   "source": [
    "data = []"
   ]
  },
  {
   "cell_type": "code",
   "execution_count": 11,
   "metadata": {},
   "outputs": [],
   "source": [
    "for index, row in spiData.iterrows():\n",
    "    country = row['Country']\n",
    "    socialProgressIndex = row['Social Progress Index']\n",
    "\n",
    "    for i, r in democracyData.iterrows():\n",
    "        newCountry = r['name']\n",
    "        democracyIndex = r['Democracy index (EIU)']\n",
    "\n",
    "        if country==newCountry:\n",
    "            data.append([socialProgressIndex,democracyIndex])"
   ]
  },
  {
   "cell_type": "code",
   "execution_count": 12,
   "metadata": {},
   "outputs": [],
   "source": [
    "X = pd.DataFrame(data)[0]\n",
    "y = pd.DataFrame(data)[1]"
   ]
  },
  {
   "cell_type": "code",
   "execution_count": 13,
   "metadata": {},
   "outputs": [
    {
     "output_type": "execute_result",
     "data": {
      "text/plain": [
       "<matplotlib.collections.PathCollection at 0x7fb6c9dd6880>"
      ]
     },
     "metadata": {},
     "execution_count": 13
    },
    {
     "output_type": "display_data",
     "data": {
      "text/plain": "<Figure size 432x288 with 1 Axes>",
      "image/svg+xml": "<?xml version=\"1.0\" encoding=\"utf-8\" standalone=\"no\"?>\n<!DOCTYPE svg PUBLIC \"-//W3C//DTD SVG 1.1//EN\"\n  \"http://www.w3.org/Graphics/SVG/1.1/DTD/svg11.dtd\">\n<!-- Created with matplotlib (https://matplotlib.org/) -->\n<svg height=\"248.518125pt\" version=\"1.1\" viewBox=\"0 0 375.2875 248.518125\" width=\"375.2875pt\" xmlns=\"http://www.w3.org/2000/svg\" xmlns:xlink=\"http://www.w3.org/1999/xlink\">\n <metadata>\n  <rdf:RDF xmlns:cc=\"http://creativecommons.org/ns#\" xmlns:dc=\"http://purl.org/dc/elements/1.1/\" xmlns:rdf=\"http://www.w3.org/1999/02/22-rdf-syntax-ns#\">\n   <cc:Work>\n    <dc:type rdf:resource=\"http://purl.org/dc/dcmitype/StillImage\"/>\n    <dc:date>2021-01-11T20:05:50.672719</dc:date>\n    <dc:format>image/svg+xml</dc:format>\n    <dc:creator>\n     <cc:Agent>\n      <dc:title>Matplotlib v3.3.2, https://matplotlib.org/</dc:title>\n     </cc:Agent>\n    </dc:creator>\n   </cc:Work>\n  </rdf:RDF>\n </metadata>\n <defs>\n  <style type=\"text/css\">*{stroke-linecap:butt;stroke-linejoin:round;}</style>\n </defs>\n <g id=\"figure_1\">\n  <g id=\"patch_1\">\n   <path d=\"M 0 248.518125 \nL 375.2875 248.518125 \nL 375.2875 0 \nL 0 0 \nz\n\" style=\"fill:none;\"/>\n  </g>\n  <g id=\"axes_1\">\n   <g id=\"patch_2\">\n    <path d=\"M 33.2875 224.64 \nL 368.0875 224.64 \nL 368.0875 7.2 \nL 33.2875 7.2 \nz\n\" style=\"fill:#ffffff;\"/>\n   </g>\n   <g id=\"PathCollection_1\">\n    <defs>\n     <path d=\"M 0 3 \nC 0.795609 3 1.55874 2.683901 2.12132 2.12132 \nC 2.683901 1.55874 3 0.795609 3 0 \nC 3 -0.795609 2.683901 -1.55874 2.12132 -2.12132 \nC 1.55874 -2.683901 0.795609 -3 0 -3 \nC -0.795609 -3 -1.55874 -2.683901 -2.12132 -2.12132 \nC -2.683901 -1.55874 -3 -0.795609 -3 0 \nC -3 0.795609 -2.683901 1.55874 -2.12132 2.12132 \nC -1.55874 2.683901 -0.795609 3 0 3 \nz\n\" id=\"m9b492ad1f8\" style=\"stroke:#1f77b4;\"/>\n    </defs>\n    <g clip-path=\"url(#p98a8d18d59)\">\n     <use style=\"fill:#1f77b4;stroke:#1f77b4;\" x=\"102.997869\" xlink:href=\"#m9b492ad1f8\" y=\"179.383349\"/>\n     <use style=\"fill:#1f77b4;stroke:#1f77b4;\" x=\"267.068892\" xlink:href=\"#m9b492ad1f8\" y=\"109.099713\"/>\n     <use style=\"fill:#1f77b4;stroke:#1f77b4;\" x=\"239.872337\" xlink:href=\"#m9b492ad1f8\" y=\"152.564593\"/>\n     <use style=\"fill:#1f77b4;stroke:#1f77b4;\" x=\"132.076882\" xlink:href=\"#m9b492ad1f8\" y=\"159.269282\"/>\n     <use style=\"fill:#1f77b4;stroke:#1f77b4;\" x=\"293.076527\" xlink:href=\"#m9b492ad1f8\" y=\"82.974545\"/>\n     <use style=\"fill:#1f77b4;stroke:#1f77b4;\" x=\"272.270419\" xlink:href=\"#m9b492ad1f8\" y=\"117.191579\"/>\n     <use style=\"fill:#1f77b4;stroke:#1f77b4;\" x=\"345.735795\" xlink:href=\"#m9b492ad1f8\" y=\"35.116938\"/>\n     <use style=\"fill:#1f77b4;stroke:#1f77b4;\" x=\"336.86843\" xlink:href=\"#m9b492ad1f8\" y=\"53.612632\"/>\n     <use style=\"fill:#1f77b4;stroke:#1f77b4;\" x=\"211.090554\" xlink:href=\"#m9b492ad1f8\" y=\"181.695311\"/>\n     <use style=\"fill:#1f77b4;stroke:#1f77b4;\" x=\"223.425604\" xlink:href=\"#m9b492ad1f8\" y=\"186.319234\"/>\n     <use style=\"fill:#1f77b4;stroke:#1f77b4;\" x=\"167.100497\" xlink:href=\"#m9b492ad1f8\" y=\"109.330909\"/>\n     <use style=\"fill:#1f77b4;stroke:#1f77b4;\" x=\"274.94549\" xlink:href=\"#m9b492ad1f8\" y=\"187.937608\"/>\n     <use style=\"fill:#1f77b4;stroke:#1f77b4;\" x=\"336.670277\" xlink:href=\"#m9b492ad1f8\" y=\"68.640383\"/>\n     <use style=\"fill:#1f77b4;stroke:#1f77b4;\" x=\"168.735263\" xlink:href=\"#m9b492ad1f8\" y=\"127.595407\"/>\n     <use style=\"fill:#1f77b4;stroke:#1f77b4;\" x=\"232.045277\" xlink:href=\"#m9b492ad1f8\" y=\"122.740287\"/>\n     <use style=\"fill:#1f77b4;stroke:#1f77b4;\" x=\"236.45419\" xlink:href=\"#m9b492ad1f8\" y=\"133.375311\"/>\n     <use style=\"fill:#1f77b4;stroke:#1f77b4;\" x=\"253.842152\" xlink:href=\"#m9b492ad1f8\" y=\"132.912919\"/>\n     <use style=\"fill:#1f77b4;stroke:#1f77b4;\" x=\"237.098189\" xlink:href=\"#m9b492ad1f8\" y=\"64.710048\"/>\n     <use style=\"fill:#1f77b4;stroke:#1f77b4;\" x=\"259.638139\" xlink:href=\"#m9b492ad1f8\" y=\"86.673684\"/>\n     <use style=\"fill:#1f77b4;stroke:#1f77b4;\" x=\"289.113459\" xlink:href=\"#m9b492ad1f8\" y=\"82.743349\"/>\n     <use style=\"fill:#1f77b4;stroke:#1f77b4;\" x=\"140.54794\" xlink:href=\"#m9b492ad1f8\" y=\"151.871005\"/>\n     <use style=\"fill:#1f77b4;stroke:#1f77b4;\" x=\"97.598189\" xlink:href=\"#m9b492ad1f8\" y=\"195.567081\"/>\n     <use style=\"fill:#1f77b4;stroke:#1f77b4;\" x=\"172.252486\" xlink:href=\"#m9b492ad1f8\" y=\"163.66201\"/>\n     <use style=\"fill:#1f77b4;stroke:#1f77b4;\" x=\"147.582386\" xlink:href=\"#m9b492ad1f8\" y=\"179.383349\"/>\n     <use style=\"fill:#1f77b4;stroke:#1f77b4;\" x=\"346.280717\" xlink:href=\"#m9b492ad1f8\" y=\"32.111388\"/>\n     <use style=\"fill:#1f77b4;stroke:#1f77b4;\" x=\"50.140447\" xlink:href=\"#m9b492ad1f8\" y=\"214.756364\"/>\n     <use style=\"fill:#1f77b4;stroke:#1f77b4;\" x=\"260.083984\" xlink:href=\"#m9b492ad1f8\" y=\"80.431388\"/>\n     <use style=\"fill:#1f77b4;stroke:#1f77b4;\" x=\"304.71804\" xlink:href=\"#m9b492ad1f8\" y=\"57.31177\"/>\n     <use style=\"fill:#1f77b4;stroke:#1f77b4;\" x=\"299.318359\" xlink:href=\"#m9b492ad1f8\" y=\"93.378373\"/>\n     <use style=\"fill:#1f77b4;stroke:#1f77b4;\" x=\"247.798473\" xlink:href=\"#m9b492ad1f8\" y=\"179.614545\"/>\n     <use style=\"fill:#1f77b4;stroke:#1f77b4;\" x=\"322.700462\" xlink:href=\"#m9b492ad1f8\" y=\"69.796364\"/>\n     <use style=\"fill:#1f77b4;stroke:#1f77b4;\" x=\"349.79794\" xlink:href=\"#m9b492ad1f8\" y=\"32.111388\"/>\n     <use style=\"fill:#1f77b4;stroke:#1f77b4;\" x=\"133.909801\" xlink:href=\"#m9b492ad1f8\" y=\"181.232919\"/>\n     <use style=\"fill:#1f77b4;stroke:#1f77b4;\" x=\"245.47017\" xlink:href=\"#m9b492ad1f8\" y=\"94.071962\"/>\n     <use style=\"fill:#1f77b4;stroke:#1f77b4;\" x=\"267.267045\" xlink:href=\"#m9b492ad1f8\" y=\"98.927081\"/>\n     <use style=\"fill:#1f77b4;stroke:#1f77b4;\" x=\"190.631214\" xlink:href=\"#m9b492ad1f8\" y=\"174.52823\"/>\n     <use style=\"fill:#1f77b4;stroke:#1f77b4;\" x=\"226.645597\" xlink:href=\"#m9b492ad1f8\" y=\"103.088612\"/>\n     <use style=\"fill:#1f77b4;stroke:#1f77b4;\" x=\"141.588246\" xlink:href=\"#m9b492ad1f8\" y=\"200.884593\"/>\n     <use style=\"fill:#1f77b4;stroke:#1f77b4;\" x=\"67.875178\" xlink:href=\"#m9b492ad1f8\" y=\"190.480766\"/>\n     <use style=\"fill:#1f77b4;stroke:#1f77b4;\" x=\"325.771839\" xlink:href=\"#m9b492ad1f8\" y=\"62.629282\"/>\n     <use style=\"fill:#1f77b4;stroke:#1f77b4;\" x=\"134.207031\" xlink:href=\"#m9b492ad1f8\" y=\"165.742775\"/>\n     <use style=\"fill:#1f77b4;stroke:#1f77b4;\" x=\"232.441584\" xlink:href=\"#m9b492ad1f8\" y=\"110.024498\"/>\n     <use style=\"fill:#1f77b4;stroke:#1f77b4;\" x=\"348.708097\" xlink:href=\"#m9b492ad1f8\" y=\"31.417799\"/>\n     <use style=\"fill:#1f77b4;stroke:#1f77b4;\" x=\"333.301669\" xlink:href=\"#m9b492ad1f8\" y=\"57.542967\"/>\n     <use style=\"fill:#1f77b4;stroke:#1f77b4;\" x=\"210.198864\" xlink:href=\"#m9b492ad1f8\" y=\"161.81244\"/>\n     <use style=\"fill:#1f77b4;stroke:#1f77b4;\" x=\"264.294744\" xlink:href=\"#m9b492ad1f8\" y=\"119.965933\"/>\n     <use style=\"fill:#1f77b4;stroke:#1f77b4;\" x=\"342.119496\" xlink:href=\"#m9b492ad1f8\" y=\"44.595981\"/>\n     <use style=\"fill:#1f77b4;stroke:#1f77b4;\" x=\"214.80593\" xlink:href=\"#m9b492ad1f8\" y=\"91.991196\"/>\n     <use style=\"fill:#1f77b4;stroke:#1f77b4;\" x=\"318.440163\" xlink:href=\"#m9b492ad1f8\" y=\"73.495502\"/>\n     <use style=\"fill:#1f77b4;stroke:#1f77b4;\" x=\"199.003196\" xlink:href=\"#m9b492ad1f8\" y=\"123.665072\"/>\n     <use style=\"fill:#1f77b4;stroke:#1f77b4;\" x=\"108.546165\" xlink:href=\"#m9b492ad1f8\" y=\"172.67866\"/>\n     <use style=\"fill:#1f77b4;stroke:#1f77b4;\" x=\"124.794744\" xlink:href=\"#m9b492ad1f8\" y=\"184.469665\"/>\n     <use style=\"fill:#1f77b4;stroke:#1f77b4;\" x=\"225.159446\" xlink:href=\"#m9b492ad1f8\" y=\"103.088612\"/>\n     <use style=\"fill:#1f77b4;stroke:#1f77b4;\" x=\"135.197798\" xlink:href=\"#m9b492ad1f8\" y=\"139.617608\"/>\n     <use style=\"fill:#1f77b4;stroke:#1f77b4;\" x=\"202.669034\" xlink:href=\"#m9b492ad1f8\" y=\"119.965933\"/>\n     <use style=\"fill:#1f77b4;stroke:#1f77b4;\" x=\"294.859908\" xlink:href=\"#m9b492ad1f8\" y=\"91.991196\"/>\n     <use style=\"fill:#1f77b4;stroke:#1f77b4;\" x=\"48.505682\" xlink:href=\"#m9b492ad1f8\" y=\"208.051675\"/>\n     <use style=\"fill:#1f77b4;stroke:#1f77b4;\" x=\"306.352805\" xlink:href=\"#m9b492ad1f8\" y=\"58.467751\"/>\n     <use style=\"fill:#1f77b4;stroke:#1f77b4;\" x=\"221.047763\" xlink:href=\"#m9b492ad1f8\" y=\"193.023923\"/>\n     <use style=\"fill:#1f77b4;stroke:#1f77b4;\" x=\"344.745028\" xlink:href=\"#m9b492ad1f8\" y=\"23.788325\"/>\n     <use style=\"fill:#1f77b4;stroke:#1f77b4;\" x=\"174.878018\" xlink:href=\"#m9b492ad1f8\" y=\"85.7489\"/>\n     <use style=\"fill:#1f77b4;stroke:#1f77b4;\" x=\"237.742188\" xlink:href=\"#m9b492ad1f8\" y=\"95.459139\"/>\n     <use style=\"fill:#1f77b4;stroke:#1f77b4;\" x=\"227.834517\" xlink:href=\"#m9b492ad1f8\" y=\"190.249569\"/>\n     <use style=\"fill:#1f77b4;stroke:#1f77b4;\" x=\"208.167791\" xlink:href=\"#m9b492ad1f8\" y=\"158.80689\"/>\n     <use style=\"fill:#1f77b4;stroke:#1f77b4;\" x=\"341.07919\" xlink:href=\"#m9b492ad1f8\" y=\"31.648995\"/>\n     <use style=\"fill:#1f77b4;stroke:#1f77b4;\" x=\"307.739879\" xlink:href=\"#m9b492ad1f8\" y=\"63.554067\"/>\n     <use style=\"fill:#1f77b4;stroke:#1f77b4;\" x=\"326.267223\" xlink:href=\"#m9b492ad1f8\" y=\"71.414737\"/>\n     <use style=\"fill:#1f77b4;stroke:#1f77b4;\" x=\"263.799361\" xlink:href=\"#m9b492ad1f8\" y=\"84.361722\"/>\n     <use style=\"fill:#1f77b4;stroke:#1f77b4;\" x=\"340.038885\" xlink:href=\"#m9b492ad1f8\" y=\"60.548517\"/>\n     <use style=\"fill:#1f77b4;stroke:#1f77b4;\" x=\"247.699396\" xlink:href=\"#m9b492ad1f8\" y=\"154.414163\"/>\n     <use style=\"fill:#1f77b4;stroke:#1f77b4;\" x=\"253.445845\" xlink:href=\"#m9b492ad1f8\" y=\"177.302584\"/>\n     <use style=\"fill:#1f77b4;stroke:#1f77b4;\" x=\"176.364169\" xlink:href=\"#m9b492ad1f8\" y=\"125.514641\"/>\n     <use style=\"fill:#1f77b4;stroke:#1f77b4;\" x=\"277.273793\" xlink:href=\"#m9b492ad1f8\" y=\"154.414163\"/>\n     <use style=\"fill:#1f77b4;stroke:#1f77b4;\" x=\"305.60973\" xlink:href=\"#m9b492ad1f8\" y=\"72.108325\"/>\n     <use style=\"fill:#1f77b4;stroke:#1f77b4;\" x=\"237.147727\" xlink:href=\"#m9b492ad1f8\" y=\"144.472727\"/>\n     <use style=\"fill:#1f77b4;stroke:#1f77b4;\" x=\"160.016513\" xlink:href=\"#m9b492ad1f8\" y=\"94.071962\"/>\n     <use style=\"fill:#1f77b4;stroke:#1f77b4;\" x=\"147.978693\" xlink:href=\"#m9b492ad1f8\" y=\"119.272344\"/>\n     <use style=\"fill:#1f77b4;stroke:#1f77b4;\" x=\"309.473722\" xlink:href=\"#m9b492ad1f8\" y=\"71.877129\"/>\n     <use style=\"fill:#1f77b4;stroke:#1f77b4;\" x=\"337.165661\" xlink:href=\"#m9b492ad1f8\" y=\"41.590431\"/>\n     <use style=\"fill:#1f77b4;stroke:#1f77b4;\" x=\"133.563033\" xlink:href=\"#m9b492ad1f8\" y=\"114.879617\"/>\n     <use style=\"fill:#1f77b4;stroke:#1f77b4;\" x=\"161.354048\" xlink:href=\"#m9b492ad1f8\" y=\"118.116364\"/>\n     <use style=\"fill:#1f77b4;stroke:#1f77b4;\" x=\"274.747337\" xlink:href=\"#m9b492ad1f8\" y=\"79.737799\"/>\n     <use style=\"fill:#1f77b4;stroke:#1f77b4;\" x=\"132.720881\" xlink:href=\"#m9b492ad1f8\" y=\"131.525742\"/>\n     <use style=\"fill:#1f77b4;stroke:#1f77b4;\" x=\"314.03125\" xlink:href=\"#m9b492ad1f8\" y=\"61.473301\"/>\n     <use style=\"fill:#1f77b4;stroke:#1f77b4;\" x=\"135.990412\" xlink:href=\"#m9b492ad1f8\" y=\"154.645359\"/>\n     <use style=\"fill:#1f77b4;stroke:#1f77b4;\" x=\"284.655007\" xlink:href=\"#m9b492ad1f8\" y=\"55.231005\"/>\n     <use style=\"fill:#1f77b4;stroke:#1f77b4;\" x=\"257.706143\" xlink:href=\"#m9b492ad1f8\" y=\"104.475789\"/>\n     <use style=\"fill:#1f77b4;stroke:#1f77b4;\" x=\"253.049538\" xlink:href=\"#m9b492ad1f8\" y=\"112.336459\"/>\n     <use style=\"fill:#1f77b4;stroke:#1f77b4;\" x=\"245.569247\" xlink:href=\"#m9b492ad1f8\" y=\"94.996746\"/>\n     <use style=\"fill:#1f77b4;stroke:#1f77b4;\" x=\"262.164595\" xlink:href=\"#m9b492ad1f8\" y=\"114.648421\"/>\n     <use style=\"fill:#1f77b4;stroke:#1f77b4;\" x=\"224.911754\" xlink:href=\"#m9b492ad1f8\" y=\"127.364211\"/>\n     <use style=\"fill:#1f77b4;stroke:#1f77b4;\" x=\"136.238104\" xlink:href=\"#m9b492ad1f8\" y=\"160.887656\"/>\n     <use style=\"fill:#1f77b4;stroke:#1f77b4;\" x=\"170.865412\" xlink:href=\"#m9b492ad1f8\" y=\"163.199617\"/>\n     <use style=\"fill:#1f77b4;stroke:#1f77b4;\" x=\"226.100675\" xlink:href=\"#m9b492ad1f8\" y=\"96.61512\"/>\n     <use style=\"fill:#1f77b4;stroke:#1f77b4;\" x=\"178.841087\" xlink:href=\"#m9b492ad1f8\" y=\"123.202679\"/>\n     <use style=\"fill:#1f77b4;stroke:#1f77b4;\" x=\"344.596413\" xlink:href=\"#m9b492ad1f8\" y=\"36.966507\"/>\n     <use style=\"fill:#1f77b4;stroke:#1f77b4;\" x=\"347.469638\" xlink:href=\"#m9b492ad1f8\" y=\"31.186603\"/>\n     <use style=\"fill:#1f77b4;stroke:#1f77b4;\" x=\"210.644709\" xlink:href=\"#m9b492ad1f8\" y=\"163.199617\"/>\n     <use style=\"fill:#1f77b4;stroke:#1f77b4;\" x=\"102.601563\" xlink:href=\"#m9b492ad1f8\" y=\"169.210718\"/>\n     <use style=\"fill:#1f77b4;stroke:#1f77b4;\" x=\"147.681463\" xlink:href=\"#m9b492ad1f8\" y=\"150.021435\"/>\n     <use style=\"fill:#1f77b4;stroke:#1f77b4;\" x=\"352.869318\" xlink:href=\"#m9b492ad1f8\" y=\"17.083636\"/>\n     <use style=\"fill:#1f77b4;stroke:#1f77b4;\" x=\"247.253551\" xlink:href=\"#m9b492ad1f8\" y=\"174.52823\"/>\n     <use style=\"fill:#1f77b4;stroke:#1f77b4;\" x=\"137.476563\" xlink:href=\"#m9b492ad1f8\" y=\"147.015885\"/>\n     <use style=\"fill:#1f77b4;stroke:#1f77b4;\" x=\"272.716264\" xlink:href=\"#m9b492ad1f8\" y=\"82.280957\"/>\n     <use style=\"fill:#1f77b4;stroke:#1f77b4;\" x=\"115.976918\" xlink:href=\"#m9b492ad1f8\" y=\"105.862967\"/>\n     <use style=\"fill:#1f77b4;stroke:#1f77b4;\" x=\"252.554155\" xlink:href=\"#m9b492ad1f8\" y=\"101.007847\"/>\n     <use style=\"fill:#1f77b4;stroke:#1f77b4;\" x=\"261.173828\" xlink:href=\"#m9b492ad1f8\" y=\"92.684785\"/>\n     <use style=\"fill:#1f77b4;stroke:#1f77b4;\" x=\"223.52468\" xlink:href=\"#m9b492ad1f8\" y=\"91.76\"/>\n     <use style=\"fill:#1f77b4;stroke:#1f77b4;\" x=\"311.207564\" xlink:href=\"#m9b492ad1f8\" y=\"92.222392\"/>\n     <use style=\"fill:#1f77b4;stroke:#1f77b4;\" x=\"328.397372\" xlink:href=\"#m9b492ad1f8\" y=\"59.623732\"/>\n     <use style=\"fill:#1f77b4;stroke:#1f77b4;\" x=\"243.141868\" xlink:href=\"#m9b492ad1f8\" y=\"171.522679\"/>\n     <use style=\"fill:#1f77b4;stroke:#1f77b4;\" x=\"281.633168\" xlink:href=\"#m9b492ad1f8\" y=\"95.227943\"/>\n     <use style=\"fill:#1f77b4;stroke:#1f77b4;\" x=\"252.950462\" xlink:href=\"#m9b492ad1f8\" y=\"173.372249\"/>\n     <use style=\"fill:#1f77b4;stroke:#1f77b4;\" x=\"161.651278\" xlink:href=\"#m9b492ad1f8\" y=\"172.216268\"/>\n     <use style=\"fill:#1f77b4;stroke:#1f77b4;\" x=\"215.796697\" xlink:href=\"#m9b492ad1f8\" y=\"200.653397\"/>\n     <use style=\"fill:#1f77b4;stroke:#1f77b4;\" x=\"190.928445\" xlink:href=\"#m9b492ad1f8\" y=\"110.949282\"/>\n     <use style=\"fill:#1f77b4;stroke:#1f77b4;\" x=\"267.712891\" xlink:href=\"#m9b492ad1f8\" y=\"97.077512\"/>\n     <use style=\"fill:#1f77b4;stroke:#1f77b4;\" x=\"149.811612\" xlink:href=\"#m9b492ad1f8\" y=\"132.912919\"/>\n     <use style=\"fill:#1f77b4;stroke:#1f77b4;\" x=\"316.854936\" xlink:href=\"#m9b492ad1f8\" y=\"106.094163\"/>\n     <use style=\"fill:#1f77b4;stroke:#1f77b4;\" x=\"328.001065\" xlink:href=\"#m9b492ad1f8\" y=\"71.877129\"/>\n     <use style=\"fill:#1f77b4;stroke:#1f77b4;\" x=\"241.556641\" xlink:href=\"#m9b492ad1f8\" y=\"77.88823\"/>\n     <use style=\"fill:#1f77b4;stroke:#1f77b4;\" x=\"332.954901\" xlink:href=\"#m9b492ad1f8\" y=\"53.612632\"/>\n     <use style=\"fill:#1f77b4;stroke:#1f77b4;\" x=\"256.120916\" xlink:href=\"#m9b492ad1f8\" y=\"100.314258\"/>\n     <use style=\"fill:#1f77b4;stroke:#1f77b4;\" x=\"133.810724\" xlink:href=\"#m9b492ad1f8\" y=\"182.851292\"/>\n     <use style=\"fill:#1f77b4;stroke:#1f77b4;\" x=\"245.816939\" xlink:href=\"#m9b492ad1f8\" y=\"83.89933\"/>\n     <use style=\"fill:#1f77b4;stroke:#1f77b4;\" x=\"347.370561\" xlink:href=\"#m9b492ad1f8\" y=\"28.181053\"/>\n     <use style=\"fill:#1f77b4;stroke:#1f77b4;\" x=\"346.379794\" xlink:href=\"#m9b492ad1f8\" y=\"36.504115\"/>\n     <use style=\"fill:#1f77b4;stroke:#1f77b4;\" x=\"175.819247\" xlink:href=\"#m9b492ad1f8\" y=\"200.653397\"/>\n     <use style=\"fill:#1f77b4;stroke:#1f77b4;\" x=\"171.905717\" xlink:href=\"#m9b492ad1f8\" y=\"125.977033\"/>\n     <use style=\"fill:#1f77b4;stroke:#1f77b4;\" x=\"243.835405\" xlink:href=\"#m9b492ad1f8\" y=\"99.158278\"/>\n     <use style=\"fill:#1f77b4;stroke:#1f77b4;\" x=\"196.080433\" xlink:href=\"#m9b492ad1f8\" y=\"79.044211\"/>\n     <use style=\"fill:#1f77b4;stroke:#1f77b4;\" x=\"156.301136\" xlink:href=\"#m9b492ad1f8\" y=\"168.979522\"/>\n     <use style=\"fill:#1f77b4;stroke:#1f77b4;\" x=\"271.62642\" xlink:href=\"#m9b492ad1f8\" y=\"79.737799\"/>\n     <use style=\"fill:#1f77b4;stroke:#1f77b4;\" x=\"265.136896\" xlink:href=\"#m9b492ad1f8\" y=\"89.910431\"/>\n     <use style=\"fill:#1f77b4;stroke:#1f77b4;\" x=\"231.698509\" xlink:href=\"#m9b492ad1f8\" y=\"150.715024\"/>\n     <use style=\"fill:#1f77b4;stroke:#1f77b4;\" x=\"182.556463\" xlink:href=\"#m9b492ad1f8\" y=\"205.508517\"/>\n     <use style=\"fill:#1f77b4;stroke:#1f77b4;\" x=\"155.954368\" xlink:href=\"#m9b492ad1f8\" y=\"129.21378\"/>\n     <use style=\"fill:#1f77b4;stroke:#1f77b4;\" x=\"257.012607\" xlink:href=\"#m9b492ad1f8\" y=\"108.868517\"/>\n     <use style=\"fill:#1f77b4;stroke:#1f77b4;\" x=\"243.240945\" xlink:href=\"#m9b492ad1f8\" y=\"181.464115\"/>\n     <use style=\"fill:#1f77b4;stroke:#1f77b4;\" x=\"332.112749\" xlink:href=\"#m9b492ad1f8\" y=\"48.29512\"/>\n     <use style=\"fill:#1f77b4;stroke:#1f77b4;\" x=\"318.093395\" xlink:href=\"#m9b492ad1f8\" y=\"61.242105\"/>\n     <use style=\"fill:#1f77b4;stroke:#1f77b4;\" x=\"304.618963\" xlink:href=\"#m9b492ad1f8\" y=\"51.531866\"/>\n     <use style=\"fill:#1f77b4;stroke:#1f77b4;\" x=\"215.400391\" xlink:href=\"#m9b492ad1f8\" y=\"198.803828\"/>\n     <use style=\"fill:#1f77b4;stroke:#1f77b4;\" x=\"234.571733\" xlink:href=\"#m9b492ad1f8\" y=\"174.065837\"/>\n     <use style=\"fill:#1f77b4;stroke:#1f77b4;\" x=\"167.645419\" xlink:href=\"#m9b492ad1f8\" y=\"127.595407\"/>\n     <use style=\"fill:#1f77b4;stroke:#1f77b4;\" x=\"152.387607\" xlink:href=\"#m9b492ad1f8\" y=\"172.216268\"/>\n    </g>\n   </g>\n   <g id=\"matplotlib.axis_1\">\n    <g id=\"xtick_1\">\n     <g id=\"line2d_1\">\n      <defs>\n       <path d=\"M 0 0 \nL 0 3.5 \n\" id=\"ma3544cfb42\" style=\"stroke:#000000;stroke-width:0.8;\"/>\n      </defs>\n      <g>\n       <use style=\"stroke:#000000;stroke-width:0.8;\" x=\"42.115234\" xlink:href=\"#ma3544cfb42\" y=\"224.64\"/>\n      </g>\n     </g>\n     <g id=\"text_1\">\n      <!-- 30 -->\n      <g transform=\"translate(35.752734 239.238437)scale(0.1 -0.1)\">\n       <defs>\n        <path d=\"M 40.578125 39.3125 \nQ 47.65625 37.796875 51.625 33 \nQ 55.609375 28.21875 55.609375 21.1875 \nQ 55.609375 10.40625 48.1875 4.484375 \nQ 40.765625 -1.421875 27.09375 -1.421875 \nQ 22.515625 -1.421875 17.65625 -0.515625 \nQ 12.796875 0.390625 7.625 2.203125 \nL 7.625 11.71875 \nQ 11.71875 9.328125 16.59375 8.109375 \nQ 21.484375 6.890625 26.8125 6.890625 \nQ 36.078125 6.890625 40.9375 10.546875 \nQ 45.796875 14.203125 45.796875 21.1875 \nQ 45.796875 27.640625 41.28125 31.265625 \nQ 36.765625 34.90625 28.71875 34.90625 \nL 20.21875 34.90625 \nL 20.21875 43.015625 \nL 29.109375 43.015625 \nQ 36.375 43.015625 40.234375 45.921875 \nQ 44.09375 48.828125 44.09375 54.296875 \nQ 44.09375 59.90625 40.109375 62.90625 \nQ 36.140625 65.921875 28.71875 65.921875 \nQ 24.65625 65.921875 20.015625 65.03125 \nQ 15.375 64.15625 9.8125 62.3125 \nL 9.8125 71.09375 \nQ 15.4375 72.65625 20.34375 73.4375 \nQ 25.25 74.21875 29.59375 74.21875 \nQ 40.828125 74.21875 47.359375 69.109375 \nQ 53.90625 64.015625 53.90625 55.328125 \nQ 53.90625 49.265625 50.4375 45.09375 \nQ 46.96875 40.921875 40.578125 39.3125 \nz\n\" id=\"DejaVuSans-51\"/>\n        <path d=\"M 31.78125 66.40625 \nQ 24.171875 66.40625 20.328125 58.90625 \nQ 16.5 51.421875 16.5 36.375 \nQ 16.5 21.390625 20.328125 13.890625 \nQ 24.171875 6.390625 31.78125 6.390625 \nQ 39.453125 6.390625 43.28125 13.890625 \nQ 47.125 21.390625 47.125 36.375 \nQ 47.125 51.421875 43.28125 58.90625 \nQ 39.453125 66.40625 31.78125 66.40625 \nz\nM 31.78125 74.21875 \nQ 44.046875 74.21875 50.515625 64.515625 \nQ 56.984375 54.828125 56.984375 36.375 \nQ 56.984375 17.96875 50.515625 8.265625 \nQ 44.046875 -1.421875 31.78125 -1.421875 \nQ 19.53125 -1.421875 13.0625 8.265625 \nQ 6.59375 17.96875 6.59375 36.375 \nQ 6.59375 54.828125 13.0625 64.515625 \nQ 19.53125 74.21875 31.78125 74.21875 \nz\n\" id=\"DejaVuSans-48\"/>\n       </defs>\n       <use xlink:href=\"#DejaVuSans-51\"/>\n       <use x=\"63.623047\" xlink:href=\"#DejaVuSans-48\"/>\n      </g>\n     </g>\n    </g>\n    <g id=\"xtick_2\">\n     <g id=\"line2d_2\">\n      <g>\n       <use style=\"stroke:#000000;stroke-width:0.8;\" x=\"91.653587\" xlink:href=\"#ma3544cfb42\" y=\"224.64\"/>\n      </g>\n     </g>\n     <g id=\"text_2\">\n      <!-- 40 -->\n      <g transform=\"translate(85.291087 239.238437)scale(0.1 -0.1)\">\n       <defs>\n        <path d=\"M 37.796875 64.3125 \nL 12.890625 25.390625 \nL 37.796875 25.390625 \nz\nM 35.203125 72.90625 \nL 47.609375 72.90625 \nL 47.609375 25.390625 \nL 58.015625 25.390625 \nL 58.015625 17.1875 \nL 47.609375 17.1875 \nL 47.609375 0 \nL 37.796875 0 \nL 37.796875 17.1875 \nL 4.890625 17.1875 \nL 4.890625 26.703125 \nz\n\" id=\"DejaVuSans-52\"/>\n       </defs>\n       <use xlink:href=\"#DejaVuSans-52\"/>\n       <use x=\"63.623047\" xlink:href=\"#DejaVuSans-48\"/>\n      </g>\n     </g>\n    </g>\n    <g id=\"xtick_3\">\n     <g id=\"line2d_3\">\n      <g>\n       <use style=\"stroke:#000000;stroke-width:0.8;\" x=\"141.191939\" xlink:href=\"#ma3544cfb42\" y=\"224.64\"/>\n      </g>\n     </g>\n     <g id=\"text_3\">\n      <!-- 50 -->\n      <g transform=\"translate(134.829439 239.238437)scale(0.1 -0.1)\">\n       <defs>\n        <path d=\"M 10.796875 72.90625 \nL 49.515625 72.90625 \nL 49.515625 64.59375 \nL 19.828125 64.59375 \nL 19.828125 46.734375 \nQ 21.96875 47.46875 24.109375 47.828125 \nQ 26.265625 48.1875 28.421875 48.1875 \nQ 40.625 48.1875 47.75 41.5 \nQ 54.890625 34.8125 54.890625 23.390625 \nQ 54.890625 11.625 47.5625 5.09375 \nQ 40.234375 -1.421875 26.90625 -1.421875 \nQ 22.3125 -1.421875 17.546875 -0.640625 \nQ 12.796875 0.140625 7.71875 1.703125 \nL 7.71875 11.625 \nQ 12.109375 9.234375 16.796875 8.0625 \nQ 21.484375 6.890625 26.703125 6.890625 \nQ 35.15625 6.890625 40.078125 11.328125 \nQ 45.015625 15.765625 45.015625 23.390625 \nQ 45.015625 31 40.078125 35.4375 \nQ 35.15625 39.890625 26.703125 39.890625 \nQ 22.75 39.890625 18.8125 39.015625 \nQ 14.890625 38.140625 10.796875 36.28125 \nz\n\" id=\"DejaVuSans-53\"/>\n       </defs>\n       <use xlink:href=\"#DejaVuSans-53\"/>\n       <use x=\"63.623047\" xlink:href=\"#DejaVuSans-48\"/>\n      </g>\n     </g>\n    </g>\n    <g id=\"xtick_4\">\n     <g id=\"line2d_4\">\n      <g>\n       <use style=\"stroke:#000000;stroke-width:0.8;\" x=\"190.730291\" xlink:href=\"#ma3544cfb42\" y=\"224.64\"/>\n      </g>\n     </g>\n     <g id=\"text_4\">\n      <!-- 60 -->\n      <g transform=\"translate(184.367791 239.238437)scale(0.1 -0.1)\">\n       <defs>\n        <path d=\"M 33.015625 40.375 \nQ 26.375 40.375 22.484375 35.828125 \nQ 18.609375 31.296875 18.609375 23.390625 \nQ 18.609375 15.53125 22.484375 10.953125 \nQ 26.375 6.390625 33.015625 6.390625 \nQ 39.65625 6.390625 43.53125 10.953125 \nQ 47.40625 15.53125 47.40625 23.390625 \nQ 47.40625 31.296875 43.53125 35.828125 \nQ 39.65625 40.375 33.015625 40.375 \nz\nM 52.59375 71.296875 \nL 52.59375 62.3125 \nQ 48.875 64.0625 45.09375 64.984375 \nQ 41.3125 65.921875 37.59375 65.921875 \nQ 27.828125 65.921875 22.671875 59.328125 \nQ 17.53125 52.734375 16.796875 39.40625 \nQ 19.671875 43.65625 24.015625 45.921875 \nQ 28.375 48.1875 33.59375 48.1875 \nQ 44.578125 48.1875 50.953125 41.515625 \nQ 57.328125 34.859375 57.328125 23.390625 \nQ 57.328125 12.15625 50.6875 5.359375 \nQ 44.046875 -1.421875 33.015625 -1.421875 \nQ 20.359375 -1.421875 13.671875 8.265625 \nQ 6.984375 17.96875 6.984375 36.375 \nQ 6.984375 53.65625 15.1875 63.9375 \nQ 23.390625 74.21875 37.203125 74.21875 \nQ 40.921875 74.21875 44.703125 73.484375 \nQ 48.484375 72.75 52.59375 71.296875 \nz\n\" id=\"DejaVuSans-54\"/>\n       </defs>\n       <use xlink:href=\"#DejaVuSans-54\"/>\n       <use x=\"63.623047\" xlink:href=\"#DejaVuSans-48\"/>\n      </g>\n     </g>\n    </g>\n    <g id=\"xtick_5\">\n     <g id=\"line2d_5\">\n      <g>\n       <use style=\"stroke:#000000;stroke-width:0.8;\" x=\"240.268643\" xlink:href=\"#ma3544cfb42\" y=\"224.64\"/>\n      </g>\n     </g>\n     <g id=\"text_5\">\n      <!-- 70 -->\n      <g transform=\"translate(233.906143 239.238437)scale(0.1 -0.1)\">\n       <defs>\n        <path d=\"M 8.203125 72.90625 \nL 55.078125 72.90625 \nL 55.078125 68.703125 \nL 28.609375 0 \nL 18.3125 0 \nL 43.21875 64.59375 \nL 8.203125 64.59375 \nz\n\" id=\"DejaVuSans-55\"/>\n       </defs>\n       <use xlink:href=\"#DejaVuSans-55\"/>\n       <use x=\"63.623047\" xlink:href=\"#DejaVuSans-48\"/>\n      </g>\n     </g>\n    </g>\n    <g id=\"xtick_6\">\n     <g id=\"line2d_6\">\n      <g>\n       <use style=\"stroke:#000000;stroke-width:0.8;\" x=\"289.806996\" xlink:href=\"#ma3544cfb42\" y=\"224.64\"/>\n      </g>\n     </g>\n     <g id=\"text_6\">\n      <!-- 80 -->\n      <g transform=\"translate(283.444496 239.238437)scale(0.1 -0.1)\">\n       <defs>\n        <path d=\"M 31.78125 34.625 \nQ 24.75 34.625 20.71875 30.859375 \nQ 16.703125 27.09375 16.703125 20.515625 \nQ 16.703125 13.921875 20.71875 10.15625 \nQ 24.75 6.390625 31.78125 6.390625 \nQ 38.8125 6.390625 42.859375 10.171875 \nQ 46.921875 13.96875 46.921875 20.515625 \nQ 46.921875 27.09375 42.890625 30.859375 \nQ 38.875 34.625 31.78125 34.625 \nz\nM 21.921875 38.8125 \nQ 15.578125 40.375 12.03125 44.71875 \nQ 8.5 49.078125 8.5 55.328125 \nQ 8.5 64.0625 14.71875 69.140625 \nQ 20.953125 74.21875 31.78125 74.21875 \nQ 42.671875 74.21875 48.875 69.140625 \nQ 55.078125 64.0625 55.078125 55.328125 \nQ 55.078125 49.078125 51.53125 44.71875 \nQ 48 40.375 41.703125 38.8125 \nQ 48.828125 37.15625 52.796875 32.3125 \nQ 56.78125 27.484375 56.78125 20.515625 \nQ 56.78125 9.90625 50.3125 4.234375 \nQ 43.84375 -1.421875 31.78125 -1.421875 \nQ 19.734375 -1.421875 13.25 4.234375 \nQ 6.78125 9.90625 6.78125 20.515625 \nQ 6.78125 27.484375 10.78125 32.3125 \nQ 14.796875 37.15625 21.921875 38.8125 \nz\nM 18.3125 54.390625 \nQ 18.3125 48.734375 21.84375 45.5625 \nQ 25.390625 42.390625 31.78125 42.390625 \nQ 38.140625 42.390625 41.71875 45.5625 \nQ 45.3125 48.734375 45.3125 54.390625 \nQ 45.3125 60.0625 41.71875 63.234375 \nQ 38.140625 66.40625 31.78125 66.40625 \nQ 25.390625 66.40625 21.84375 63.234375 \nQ 18.3125 60.0625 18.3125 54.390625 \nz\n\" id=\"DejaVuSans-56\"/>\n       </defs>\n       <use xlink:href=\"#DejaVuSans-56\"/>\n       <use x=\"63.623047\" xlink:href=\"#DejaVuSans-48\"/>\n      </g>\n     </g>\n    </g>\n    <g id=\"xtick_7\">\n     <g id=\"line2d_7\">\n      <g>\n       <use style=\"stroke:#000000;stroke-width:0.8;\" x=\"339.345348\" xlink:href=\"#ma3544cfb42\" y=\"224.64\"/>\n      </g>\n     </g>\n     <g id=\"text_7\">\n      <!-- 90 -->\n      <g transform=\"translate(332.982848 239.238437)scale(0.1 -0.1)\">\n       <defs>\n        <path d=\"M 10.984375 1.515625 \nL 10.984375 10.5 \nQ 14.703125 8.734375 18.5 7.8125 \nQ 22.3125 6.890625 25.984375 6.890625 \nQ 35.75 6.890625 40.890625 13.453125 \nQ 46.046875 20.015625 46.78125 33.40625 \nQ 43.953125 29.203125 39.59375 26.953125 \nQ 35.25 24.703125 29.984375 24.703125 \nQ 19.046875 24.703125 12.671875 31.3125 \nQ 6.296875 37.9375 6.296875 49.421875 \nQ 6.296875 60.640625 12.9375 67.421875 \nQ 19.578125 74.21875 30.609375 74.21875 \nQ 43.265625 74.21875 49.921875 64.515625 \nQ 56.59375 54.828125 56.59375 36.375 \nQ 56.59375 19.140625 48.40625 8.859375 \nQ 40.234375 -1.421875 26.421875 -1.421875 \nQ 22.703125 -1.421875 18.890625 -0.6875 \nQ 15.09375 0.046875 10.984375 1.515625 \nz\nM 30.609375 32.421875 \nQ 37.25 32.421875 41.125 36.953125 \nQ 45.015625 41.5 45.015625 49.421875 \nQ 45.015625 57.28125 41.125 61.84375 \nQ 37.25 66.40625 30.609375 66.40625 \nQ 23.96875 66.40625 20.09375 61.84375 \nQ 16.21875 57.28125 16.21875 49.421875 \nQ 16.21875 41.5 20.09375 36.953125 \nQ 23.96875 32.421875 30.609375 32.421875 \nz\n\" id=\"DejaVuSans-57\"/>\n       </defs>\n       <use xlink:href=\"#DejaVuSans-57\"/>\n       <use x=\"63.623047\" xlink:href=\"#DejaVuSans-48\"/>\n      </g>\n     </g>\n    </g>\n   </g>\n   <g id=\"matplotlib.axis_2\">\n    <g id=\"ytick_1\">\n     <g id=\"line2d_8\">\n      <defs>\n       <path d=\"M 0 0 \nL -3.5 0 \n\" id=\"mb6837cdde6\" style=\"stroke:#000000;stroke-width:0.8;\"/>\n      </defs>\n      <g>\n       <use style=\"stroke:#000000;stroke-width:0.8;\" x=\"33.2875\" xlink:href=\"#mb6837cdde6\" y=\"199.035024\"/>\n      </g>\n     </g>\n     <g id=\"text_8\">\n      <!-- 20 -->\n      <g transform=\"translate(13.5625 202.834243)scale(0.1 -0.1)\">\n       <defs>\n        <path d=\"M 19.1875 8.296875 \nL 53.609375 8.296875 \nL 53.609375 0 \nL 7.328125 0 \nL 7.328125 8.296875 \nQ 12.9375 14.109375 22.625 23.890625 \nQ 32.328125 33.6875 34.8125 36.53125 \nQ 39.546875 41.84375 41.421875 45.53125 \nQ 43.3125 49.21875 43.3125 52.78125 \nQ 43.3125 58.59375 39.234375 62.25 \nQ 35.15625 65.921875 28.609375 65.921875 \nQ 23.96875 65.921875 18.8125 64.3125 \nQ 13.671875 62.703125 7.8125 59.421875 \nL 7.8125 69.390625 \nQ 13.765625 71.78125 18.9375 73 \nQ 24.125 74.21875 28.421875 74.21875 \nQ 39.75 74.21875 46.484375 68.546875 \nQ 53.21875 62.890625 53.21875 53.421875 \nQ 53.21875 48.921875 51.53125 44.890625 \nQ 49.859375 40.875 45.40625 35.40625 \nQ 44.1875 33.984375 37.640625 27.21875 \nQ 31.109375 20.453125 19.1875 8.296875 \nz\n\" id=\"DejaVuSans-50\"/>\n       </defs>\n       <use xlink:href=\"#DejaVuSans-50\"/>\n       <use x=\"63.623047\" xlink:href=\"#DejaVuSans-48\"/>\n      </g>\n     </g>\n    </g>\n    <g id=\"ytick_2\">\n     <g id=\"line2d_9\">\n      <g>\n       <use style=\"stroke:#000000;stroke-width:0.8;\" x=\"33.2875\" xlink:href=\"#mb6837cdde6\" y=\"152.795789\"/>\n      </g>\n     </g>\n     <g id=\"text_9\">\n      <!-- 40 -->\n      <g transform=\"translate(13.5625 156.595008)scale(0.1 -0.1)\">\n       <use xlink:href=\"#DejaVuSans-52\"/>\n       <use x=\"63.623047\" xlink:href=\"#DejaVuSans-48\"/>\n      </g>\n     </g>\n    </g>\n    <g id=\"ytick_3\">\n     <g id=\"line2d_10\">\n      <g>\n       <use style=\"stroke:#000000;stroke-width:0.8;\" x=\"33.2875\" xlink:href=\"#mb6837cdde6\" y=\"106.556555\"/>\n      </g>\n     </g>\n     <g id=\"text_10\">\n      <!-- 60 -->\n      <g transform=\"translate(13.5625 110.355774)scale(0.1 -0.1)\">\n       <use xlink:href=\"#DejaVuSans-54\"/>\n       <use x=\"63.623047\" xlink:href=\"#DejaVuSans-48\"/>\n      </g>\n     </g>\n    </g>\n    <g id=\"ytick_4\">\n     <g id=\"line2d_11\">\n      <g>\n       <use style=\"stroke:#000000;stroke-width:0.8;\" x=\"33.2875\" xlink:href=\"#mb6837cdde6\" y=\"60.317321\"/>\n      </g>\n     </g>\n     <g id=\"text_11\">\n      <!-- 80 -->\n      <g transform=\"translate(13.5625 64.116539)scale(0.1 -0.1)\">\n       <use xlink:href=\"#DejaVuSans-56\"/>\n       <use x=\"63.623047\" xlink:href=\"#DejaVuSans-48\"/>\n      </g>\n     </g>\n    </g>\n    <g id=\"ytick_5\">\n     <g id=\"line2d_12\">\n      <g>\n       <use style=\"stroke:#000000;stroke-width:0.8;\" x=\"33.2875\" xlink:href=\"#mb6837cdde6\" y=\"14.078086\"/>\n      </g>\n     </g>\n     <g id=\"text_12\">\n      <!-- 100 -->\n      <g transform=\"translate(7.2 17.877305)scale(0.1 -0.1)\">\n       <defs>\n        <path d=\"M 12.40625 8.296875 \nL 28.515625 8.296875 \nL 28.515625 63.921875 \nL 10.984375 60.40625 \nL 10.984375 69.390625 \nL 28.421875 72.90625 \nL 38.28125 72.90625 \nL 38.28125 8.296875 \nL 54.390625 8.296875 \nL 54.390625 0 \nL 12.40625 0 \nz\n\" id=\"DejaVuSans-49\"/>\n       </defs>\n       <use xlink:href=\"#DejaVuSans-49\"/>\n       <use x=\"63.623047\" xlink:href=\"#DejaVuSans-48\"/>\n       <use x=\"127.246094\" xlink:href=\"#DejaVuSans-48\"/>\n      </g>\n     </g>\n    </g>\n   </g>\n   <g id=\"patch_3\">\n    <path d=\"M 33.2875 224.64 \nL 33.2875 7.2 \n\" style=\"fill:none;stroke:#000000;stroke-linecap:square;stroke-linejoin:miter;stroke-width:0.8;\"/>\n   </g>\n   <g id=\"patch_4\">\n    <path d=\"M 368.0875 224.64 \nL 368.0875 7.2 \n\" style=\"fill:none;stroke:#000000;stroke-linecap:square;stroke-linejoin:miter;stroke-width:0.8;\"/>\n   </g>\n   <g id=\"patch_5\">\n    <path d=\"M 33.2875 224.64 \nL 368.0875 224.64 \n\" style=\"fill:none;stroke:#000000;stroke-linecap:square;stroke-linejoin:miter;stroke-width:0.8;\"/>\n   </g>\n   <g id=\"patch_6\">\n    <path d=\"M 33.2875 7.2 \nL 368.0875 7.2 \n\" style=\"fill:none;stroke:#000000;stroke-linecap:square;stroke-linejoin:miter;stroke-width:0.8;\"/>\n   </g>\n  </g>\n </g>\n <defs>\n  <clipPath id=\"p98a8d18d59\">\n   <rect height=\"217.44\" width=\"334.8\" x=\"33.2875\" y=\"7.2\"/>\n  </clipPath>\n </defs>\n</svg>\n",
      "image/png": "[encoded data removed]"
     },
     "metadata": {
      "needs_background": "light"
     }
    }
   ],
   "source": [
    "plt.scatter(X,y)"
   ]
  },
  {
   "cell_type": "code",
   "execution_count": null,
   "metadata": {},
   "outputs": [],
   "source": []
  }
 ]
}