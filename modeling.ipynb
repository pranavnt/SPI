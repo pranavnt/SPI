{
 "metadata": {
  "language_info": {
   "codemirror_mode": {
    "name": "ipython",
    "version": 3
   },
   "file_extension": ".py",
   "mimetype": "text/x-python",
   "name": "python",
   "nbconvert_exporter": "python",
   "pygments_lexer": "ipython3",
   "version": "3.8.5-final"
  },
  "orig_nbformat": 2,
  "kernelspec": {
   "name": "python3",
   "display_name": "Python 3",
   "language": "python"
  }
 },
 "nbformat": 4,
 "nbformat_minor": 2,
 "cells": [
  {
   "cell_type": "code",
   "execution_count": 1,
   "metadata": {},
   "outputs": [],
   "source": [
    "# imports\n",
    "import numpy as np\n",
    "import pandas as pd \n",
    "from matplotlib import pyplot as plt \n",
    "import seaborn as sns"
   ]
  },
  {
   "cell_type": "code",
   "execution_count": 2,
   "metadata": {},
   "outputs": [
    {
     "output_type": "execute_result",
     "data": {
      "text/plain": [
       "   SPI Rank Country SPI country code  SPI year Status  Social Progress Index  \\\n",
       "0       NaN   World              WWW      2020    NaN                  64.24   \n",
       "1       NaN   World              WWW      2019    NaN                  64.32   \n",
       "2       NaN   World              WWW      2018    NaN                  64.05   \n",
       "3       NaN   World              WWW      2017    NaN                  63.78   \n",
       "4       NaN   World              WWW      2016    NaN                  63.23   \n",
       "\n",
       "   Basic Human Needs  Foundations of Wellbeing  Opportunity  \\\n",
       "0              74.65                     60.82        57.25   \n",
       "1              74.31                     60.75        57.90   \n",
       "2              74.06                     60.54        57.54   \n",
       "3              73.62                     60.17        57.56   \n",
       "4              73.24                     59.07        57.39   \n",
       "\n",
       "   Nutrition and Basic Medical Care  ...  \\\n",
       "0                             84.63  ...   \n",
       "1                             84.36  ...   \n",
       "2                             84.04  ...   \n",
       "3                             83.66  ...   \n",
       "4                             83.24  ...   \n",
       "\n",
       "   Satisfied demand for contraception (% of women)  \\\n",
       "0                                          73.8590   \n",
       "1                                          73.6103   \n",
       "2                                          73.3432   \n",
       "3                                          73.1914   \n",
       "4                                          73.0024   \n",
       "\n",
       "   Equality of political power by socioeconomic position (0=unequal power; 4=equal power)  \\\n",
       "0                                             1.6918                                        \n",
       "1                                             1.8016                                        \n",
       "2                                             1.8182                                        \n",
       "3                                             1.8684                                        \n",
       "4                                             1.8897                                        \n",
       "\n",
       "    Equality of political power by social group (0=unequal power; 4=equal power)  \\\n",
       "0                                             1.6908                               \n",
       "1                                             1.8458                               \n",
       "2                                             1.8529                               \n",
       "3                                             1.8280                               \n",
       "4                                             1.8477                               \n",
       "\n",
       "   Equality of political power by gender (0=unequal power; 4=equal power)  \\\n",
       "0                                             1.7663                        \n",
       "1                                             1.9055                        \n",
       "2                                             1.8884                        \n",
       "3                                             1.9282                        \n",
       "4                                             1.9353                        \n",
       "\n",
       "   Discrimination and violence against minorities (0=low; 10=high)  \\\n",
       "0                                             7.3247                 \n",
       "1                                             7.2709                 \n",
       "2                                             7.4107                 \n",
       "3                                             7.5079                 \n",
       "4                                             7.5401                 \n",
       "\n",
       "   Acceptance of gays and lesbians (0=low; 100=high)  \\\n",
       "0                                             0.3343   \n",
       "1                                             0.3149   \n",
       "2                                             0.2772   \n",
       "3                                             0.2634   \n",
       "4                                             0.2556   \n",
       "\n",
       "   Quality weighted universities (points)  Citable documents  \\\n",
       "0                                223.0656             0.5025   \n",
       "1                                214.7963             0.4749   \n",
       "2                                195.1538             0.4527   \n",
       "3                                173.0154             0.4425   \n",
       "4                                158.3055             0.4252   \n",
       "\n",
       "   Women with advanced education (%)  Years of tertiary schooling  \n",
       "0                             0.5444                       2.0406  \n",
       "1                             0.5308                       2.0206  \n",
       "2                             0.5159                       1.9994  \n",
       "3                             0.4995                       1.9618  \n",
       "4                             0.4824                       1.8963  \n",
       "\n",
       "[5 rows x 71 columns]"
      ],
      "text/html": "<div>\n<style scoped>\n    .dataframe tbody tr th:only-of-type {\n        vertical-align: middle;\n    }\n\n    .dataframe tbody tr th {\n        vertical-align: top;\n    }\n\n    .dataframe thead th {\n        text-align: right;\n    }\n</style>\n<table border=\"1\" class=\"dataframe\">\n  <thead>\n    <tr style=\"text-align: right;\">\n      <th></th>\n      <th>SPI Rank</th>\n      <th>Country</th>\n      <th>SPI country code</th>\n      <th>SPI year</th>\n      <th>Status</th>\n      <th>Social Progress Index</th>\n      <th>Basic Human Needs</th>\n      <th>Foundations of Wellbeing</th>\n      <th>Opportunity</th>\n      <th>Nutrition and Basic Medical Care</th>\n      <th>...</th>\n      <th>Satisfied demand for contraception (% of women)</th>\n      <th>Equality of political power by socioeconomic position (0=unequal power; 4=equal power)</th>\n      <th>Equality of political power by social group (0=unequal power; 4=equal power)</th>\n      <th>Equality of political power by gender (0=unequal power; 4=equal power)</th>\n      <th>Discrimination and violence against minorities (0=low; 10=high)</th>\n      <th>Acceptance of gays and lesbians (0=low; 100=high)</th>\n      <th>Quality weighted universities (points)</th>\n      <th>Citable documents</th>\n      <th>Women with advanced education (%)</th>\n      <th>Years of tertiary schooling</th>\n    </tr>\n  </thead>\n  <tbody>\n    <tr>\n      <th>0</th>\n      <td>NaN</td>\n      <td>World</td>\n      <td>WWW</td>\n      <td>2020</td>\n      <td>NaN</td>\n      <td>64.24</td>\n      <td>74.65</td>\n      <td>60.82</td>\n      <td>57.25</td>\n      <td>84.63</td>\n      <td>...</td>\n      <td>73.8590</td>\n      <td>1.6918</td>\n      <td>1.6908</td>\n      <td>1.7663</td>\n      <td>7.3247</td>\n      <td>0.3343</td>\n      <td>223.0656</td>\n      <td>0.5025</td>\n      <td>0.5444</td>\n      <td>2.0406</td>\n    </tr>\n    <tr>\n      <th>1</th>\n      <td>NaN</td>\n      <td>World</td>\n      <td>WWW</td>\n      <td>2019</td>\n      <td>NaN</td>\n      <td>64.32</td>\n      <td>74.31</td>\n      <td>60.75</td>\n      <td>57.90</td>\n      <td>84.36</td>\n      <td>...</td>\n      <td>73.6103</td>\n      <td>1.8016</td>\n      <td>1.8458</td>\n      <td>1.9055</td>\n      <td>7.2709</td>\n      <td>0.3149</td>\n      <td>214.7963</td>\n      <td>0.4749</td>\n      <td>0.5308</td>\n      <td>2.0206</td>\n    </tr>\n    <tr>\n      <th>2</th>\n      <td>NaN</td>\n      <td>World</td>\n      <td>WWW</td>\n      <td>2018</td>\n      <td>NaN</td>\n      <td>64.05</td>\n      <td>74.06</td>\n      <td>60.54</td>\n      <td>57.54</td>\n      <td>84.04</td>\n      <td>...</td>\n      <td>73.3432</td>\n      <td>1.8182</td>\n      <td>1.8529</td>\n      <td>1.8884</td>\n      <td>7.4107</td>\n      <td>0.2772</td>\n      <td>195.1538</td>\n      <td>0.4527</td>\n      <td>0.5159</td>\n      <td>1.9994</td>\n    </tr>\n    <tr>\n      <th>3</th>\n      <td>NaN</td>\n      <td>World</td>\n      <td>WWW</td>\n      <td>2017</td>\n      <td>NaN</td>\n      <td>63.78</td>\n      <td>73.62</td>\n      <td>60.17</td>\n      <td>57.56</td>\n      <td>83.66</td>\n      <td>...</td>\n      <td>73.1914</td>\n      <td>1.8684</td>\n      <td>1.8280</td>\n      <td>1.9282</td>\n      <td>7.5079</td>\n      <td>0.2634</td>\n      <td>173.0154</td>\n      <td>0.4425</td>\n      <td>0.4995</td>\n      <td>1.9618</td>\n    </tr>\n    <tr>\n      <th>4</th>\n      <td>NaN</td>\n      <td>World</td>\n      <td>WWW</td>\n      <td>2016</td>\n      <td>NaN</td>\n      <td>63.23</td>\n      <td>73.24</td>\n      <td>59.07</td>\n      <td>57.39</td>\n      <td>83.24</td>\n      <td>...</td>\n      <td>73.0024</td>\n      <td>1.8897</td>\n      <td>1.8477</td>\n      <td>1.9353</td>\n      <td>7.5401</td>\n      <td>0.2556</td>\n      <td>158.3055</td>\n      <td>0.4252</td>\n      <td>0.4824</td>\n      <td>1.8963</td>\n    </tr>\n  </tbody>\n</table>\n<p>5 rows × 71 columns</p>\n</div>"
     },
     "metadata": {},
     "execution_count": 2
    }
   ],
   "source": [
    "spiData = pd.read_csv('SPIData.csv')\n",
    "spiData.head(5)"
   ]
  },
  {
   "cell_type": "code",
   "execution_count": 3,
   "metadata": {},
   "outputs": [],
   "source": [
    "spiData = pd.DataFrame(pd.concat([spiData['Country'],spiData['SPI year'],spiData['Social Progress Index']],axis=1))"
   ]
  },
  {
   "cell_type": "code",
   "execution_count": 4,
   "metadata": {
    "tags": []
   },
   "outputs": [],
   "source": [
    "# Making sure row is for 2020\n",
    "for index, row in spiData.iterrows():\n",
    "    if row['SPI year']!=2020:\n",
    "        spiData.drop(index, inplace=True)"
   ]
  },
  {
   "cell_type": "code",
   "execution_count": 5,
   "metadata": {},
   "outputs": [
    {
     "output_type": "execute_result",
     "data": {
      "text/plain": [
       "          Country  Social Progress Index\n",
       "0           World                  64.24\n",
       "10    Afghanistan                  42.29\n",
       "20        Albania                  75.41\n",
       "30        Algeria                  69.92\n",
       "40         Angola                  48.16\n",
       "...           ...                    ...\n",
       "1590      Uruguay                  82.99\n",
       "1600   Uzbekistan                  64.98\n",
       "1610      Vietnam                  68.85\n",
       "1620       Zambia                  55.34\n",
       "1630     Zimbabwe                  52.26\n",
       "\n",
       "[164 rows x 2 columns]"
      ],
      "text/html": "<div>\n<style scoped>\n    .dataframe tbody tr th:only-of-type {\n        vertical-align: middle;\n    }\n\n    .dataframe tbody tr th {\n        vertical-align: top;\n    }\n\n    .dataframe thead th {\n        text-align: right;\n    }\n</style>\n<table border=\"1\" class=\"dataframe\">\n  <thead>\n    <tr style=\"text-align: right;\">\n      <th></th>\n      <th>Country</th>\n      <th>Social Progress Index</th>\n    </tr>\n  </thead>\n  <tbody>\n    <tr>\n      <th>0</th>\n      <td>World</td>\n      <td>64.24</td>\n    </tr>\n    <tr>\n      <th>10</th>\n      <td>Afghanistan</td>\n      <td>42.29</td>\n    </tr>\n    <tr>\n      <th>20</th>\n      <td>Albania</td>\n      <td>75.41</td>\n    </tr>\n    <tr>\n      <th>30</th>\n      <td>Algeria</td>\n      <td>69.92</td>\n    </tr>\n    <tr>\n      <th>40</th>\n      <td>Angola</td>\n      <td>48.16</td>\n    </tr>\n    <tr>\n      <th>...</th>\n      <td>...</td>\n      <td>...</td>\n    </tr>\n    <tr>\n      <th>1590</th>\n      <td>Uruguay</td>\n      <td>82.99</td>\n    </tr>\n    <tr>\n      <th>1600</th>\n      <td>Uzbekistan</td>\n      <td>64.98</td>\n    </tr>\n    <tr>\n      <th>1610</th>\n      <td>Vietnam</td>\n      <td>68.85</td>\n    </tr>\n    <tr>\n      <th>1620</th>\n      <td>Zambia</td>\n      <td>55.34</td>\n    </tr>\n    <tr>\n      <th>1630</th>\n      <td>Zimbabwe</td>\n      <td>52.26</td>\n    </tr>\n  </tbody>\n</table>\n<p>164 rows × 2 columns</p>\n</div>"
     },
     "metadata": {},
     "execution_count": 5
    }
   ],
   "source": [
    "spiData = pd.DataFrame(pd.concat([spiData['Country'],spiData['Social Progress Index']],axis=1))\n",
    "spiData"
   ]
  },
  {
   "cell_type": "code",
   "execution_count": 31,
   "metadata": {},
   "outputs": [
    {
     "output_type": "execute_result",
     "data": {
      "text/plain": [
       "   geo         name  time  Democracy index (EIU)  \\\n",
       "0  afg  Afghanistan  2006                   30.6   \n",
       "1  afg  Afghanistan  2007                   30.4   \n",
       "2  afg  Afghanistan  2008                   30.2   \n",
       "3  afg  Afghanistan  2009                   27.5   \n",
       "4  afg  Afghanistan  2010                   24.8   \n",
       "\n",
       "   Electoral pluralism index (EIU)  Government index (EIU)  \\\n",
       "0                            61.70                    0.00   \n",
       "1                            56.70                    3.95   \n",
       "2                            51.70                    7.90   \n",
       "3                            38.35                    7.90   \n",
       "4                            25.00                    7.90   \n",
       "\n",
       "   Political participation index(EIU)  Political culture index (EIU)  \\\n",
       "0                                22.2                           25.0   \n",
       "1                                22.2                           25.0   \n",
       "2                                22.2                           25.0   \n",
       "3                                25.0                           25.0   \n",
       "4                                27.8                           25.0   \n",
       "\n",
       "   Civil liberties index (EIU)  Change in democracy index (EIU)  \n",
       "0                        44.10                              NaN  \n",
       "1                        44.10                             -0.2  \n",
       "2                        44.10                             -0.2  \n",
       "3                        41.15                             -2.7  \n",
       "4                        38.20                             -2.7  "
      ],
      "text/html": "<div>\n<style scoped>\n    .dataframe tbody tr th:only-of-type {\n        vertical-align: middle;\n    }\n\n    .dataframe tbody tr th {\n        vertical-align: top;\n    }\n\n    .dataframe thead th {\n        text-align: right;\n    }\n</style>\n<table border=\"1\" class=\"dataframe\">\n  <thead>\n    <tr style=\"text-align: right;\">\n      <th></th>\n      <th>geo</th>\n      <th>name</th>\n      <th>time</th>\n      <th>Democracy index (EIU)</th>\n      <th>Electoral pluralism index (EIU)</th>\n      <th>Government index (EIU)</th>\n      <th>Political participation index(EIU)</th>\n      <th>Political culture index (EIU)</th>\n      <th>Civil liberties index (EIU)</th>\n      <th>Change in democracy index (EIU)</th>\n    </tr>\n  </thead>\n  <tbody>\n    <tr>\n      <th>0</th>\n      <td>afg</td>\n      <td>Afghanistan</td>\n      <td>2006</td>\n      <td>30.6</td>\n      <td>61.70</td>\n      <td>0.00</td>\n      <td>22.2</td>\n      <td>25.0</td>\n      <td>44.10</td>\n      <td>NaN</td>\n    </tr>\n    <tr>\n      <th>1</th>\n      <td>afg</td>\n      <td>Afghanistan</td>\n      <td>2007</td>\n      <td>30.4</td>\n      <td>56.70</td>\n      <td>3.95</td>\n      <td>22.2</td>\n      <td>25.0</td>\n      <td>44.10</td>\n      <td>-0.2</td>\n    </tr>\n    <tr>\n      <th>2</th>\n      <td>afg</td>\n      <td>Afghanistan</td>\n      <td>2008</td>\n      <td>30.2</td>\n      <td>51.70</td>\n      <td>7.90</td>\n      <td>22.2</td>\n      <td>25.0</td>\n      <td>44.10</td>\n      <td>-0.2</td>\n    </tr>\n    <tr>\n      <th>3</th>\n      <td>afg</td>\n      <td>Afghanistan</td>\n      <td>2009</td>\n      <td>27.5</td>\n      <td>38.35</td>\n      <td>7.90</td>\n      <td>25.0</td>\n      <td>25.0</td>\n      <td>41.15</td>\n      <td>-2.7</td>\n    </tr>\n    <tr>\n      <th>4</th>\n      <td>afg</td>\n      <td>Afghanistan</td>\n      <td>2010</td>\n      <td>24.8</td>\n      <td>25.00</td>\n      <td>7.90</td>\n      <td>27.8</td>\n      <td>25.0</td>\n      <td>38.20</td>\n      <td>-2.7</td>\n    </tr>\n  </tbody>\n</table>\n</div>"
     },
     "metadata": {},
     "execution_count": 31
    }
   ],
   "source": [
    "democracyData = pd.read_csv('DemocracyData.csv')\n",
    "democracyData.head(5)"
   ]
  },
  {
   "cell_type": "code",
   "execution_count": 32,
   "metadata": {},
   "outputs": [
    {
     "output_type": "execute_result",
     "data": {
      "text/plain": [
       "             name  time  Democracy index (EIU)\n",
       "0     Afghanistan  2006                   30.6\n",
       "1     Afghanistan  2007                   30.4\n",
       "2     Afghanistan  2008                   30.2\n",
       "3     Afghanistan  2009                   27.5\n",
       "4     Afghanistan  2010                   24.8\n",
       "...           ...   ...                    ...\n",
       "2333     Zimbabwe  2015                   30.5\n",
       "2334     Zimbabwe  2016                   30.5\n",
       "2335     Zimbabwe  2017                   31.6\n",
       "2336     Zimbabwe  2018                   31.6\n",
       "2337     Zimbabwe  2019                   31.6\n",
       "\n",
       "[2338 rows x 3 columns]"
      ],
      "text/html": "<div>\n<style scoped>\n    .dataframe tbody tr th:only-of-type {\n        vertical-align: middle;\n    }\n\n    .dataframe tbody tr th {\n        vertical-align: top;\n    }\n\n    .dataframe thead th {\n        text-align: right;\n    }\n</style>\n<table border=\"1\" class=\"dataframe\">\n  <thead>\n    <tr style=\"text-align: right;\">\n      <th></th>\n      <th>name</th>\n      <th>time</th>\n      <th>Democracy index (EIU)</th>\n    </tr>\n  </thead>\n  <tbody>\n    <tr>\n      <th>0</th>\n      <td>Afghanistan</td>\n      <td>2006</td>\n      <td>30.6</td>\n    </tr>\n    <tr>\n      <th>1</th>\n      <td>Afghanistan</td>\n      <td>2007</td>\n      <td>30.4</td>\n    </tr>\n    <tr>\n      <th>2</th>\n      <td>Afghanistan</td>\n      <td>2008</td>\n      <td>30.2</td>\n    </tr>\n    <tr>\n      <th>3</th>\n      <td>Afghanistan</td>\n      <td>2009</td>\n      <td>27.5</td>\n    </tr>\n    <tr>\n      <th>4</th>\n      <td>Afghanistan</td>\n      <td>2010</td>\n      <td>24.8</td>\n    </tr>\n    <tr>\n      <th>...</th>\n      <td>...</td>\n      <td>...</td>\n      <td>...</td>\n    </tr>\n    <tr>\n      <th>2333</th>\n      <td>Zimbabwe</td>\n      <td>2015</td>\n      <td>30.5</td>\n    </tr>\n    <tr>\n      <th>2334</th>\n      <td>Zimbabwe</td>\n      <td>2016</td>\n      <td>30.5</td>\n    </tr>\n    <tr>\n      <th>2335</th>\n      <td>Zimbabwe</td>\n      <td>2017</td>\n      <td>31.6</td>\n    </tr>\n    <tr>\n      <th>2336</th>\n      <td>Zimbabwe</td>\n      <td>2018</td>\n      <td>31.6</td>\n    </tr>\n    <tr>\n      <th>2337</th>\n      <td>Zimbabwe</td>\n      <td>2019</td>\n      <td>31.6</td>\n    </tr>\n  </tbody>\n</table>\n<p>2338 rows × 3 columns</p>\n</div>"
     },
     "metadata": {},
     "execution_count": 32
    }
   ],
   "source": [
    "democracyData = pd.DataFrame(pd.concat([democracyData['name'],democracyData['time'],democracyData['Democracy index (EIU)']],axis=1))\n",
    "democracyData"
   ]
  },
  {
   "cell_type": "code",
   "execution_count": 33,
   "metadata": {
    "tags": []
   },
   "outputs": [],
   "source": [
    "# Making sure row is for 2020\n",
    "for index, row in democracyData.iterrows():\n",
    "    if row['time']!=2019:\n",
    "        democracyData.drop(index, inplace=True)"
   ]
  },
  {
   "cell_type": "code",
   "execution_count": 36,
   "metadata": {},
   "outputs": [],
   "source": [
    "democracyData = democracyData.drop(columns=['time'])"
   ]
  },
  {
   "cell_type": "code",
   "execution_count": 37,
   "metadata": {},
   "outputs": [],
   "source": [
    "data = []"
   ]
  },
  {
   "cell_type": "code",
   "execution_count": null,
   "metadata": {},
   "outputs": [],
   "source": [
    "for index, row in spiData.iterrows():\n",
    "    country = spiData['Country']\n",
    "    socialProgressIndex = spiData['Social Progress Index']\n",
    "\n",
    "    for index, row in spiData.iterrows():\n",
    "        newCountry = democracyData['name']\n",
    "        democracyIndex = democracyData['Democracy index (EIU)']"
   ]
  }
 ]
}